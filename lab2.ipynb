{
 "cells": [
  {
   "cell_type": "code",
   "execution_count": 25,
   "metadata": {
    "collapsed": true
   },
   "outputs": [],
   "source": [
    "import numpy as np\n",
    "import pandas as pd\n",
    "import matplotlib\n",
    "import matplotlib.pyplot as plt\n",
    "import seaborn as sbn\n",
    "import datetime as dtn\n",
    "import time as tm"
   ]
  },
  {
   "cell_type": "code",
   "execution_count": 70,
   "outputs": [
    {
     "data": {
      "text/plain": "   Order_id           Order_type                    Sub_department  mean_time  \\\n0         0                   OS     Telecommunications_department         10   \n1         1   Laying the network     Telecommunications_department         10   \n2         2  Installing software  Information Resources Department         10   \n3         3  Installing software     Telecommunications_department         10   \n4         4                 Mail              technical_department         10   \n\n   Difficulty_level  Perform_peoples  Hull_number  Floor Execution_date  \n0                 4                3            8      2     2021-05-11  \n1                 1                3           12      7     2021-12-05  \n2                 2                2            5      9     2021-05-15  \n3                 2                2           11      5     2021-06-04  \n4                 5                2           12      1     2021-11-05  ",
      "text/html": "<div>\n<style scoped>\n    .dataframe tbody tr th:only-of-type {\n        vertical-align: middle;\n    }\n\n    .dataframe tbody tr th {\n        vertical-align: top;\n    }\n\n    .dataframe thead th {\n        text-align: right;\n    }\n</style>\n<table border=\"1\" class=\"dataframe\">\n  <thead>\n    <tr style=\"text-align: right;\">\n      <th></th>\n      <th>Order_id</th>\n      <th>Order_type</th>\n      <th>Sub_department</th>\n      <th>mean_time</th>\n      <th>Difficulty_level</th>\n      <th>Perform_peoples</th>\n      <th>Hull_number</th>\n      <th>Floor</th>\n      <th>Execution_date</th>\n    </tr>\n  </thead>\n  <tbody>\n    <tr>\n      <th>0</th>\n      <td>0</td>\n      <td>OS</td>\n      <td>Telecommunications_department</td>\n      <td>10</td>\n      <td>4</td>\n      <td>3</td>\n      <td>8</td>\n      <td>2</td>\n      <td>2021-05-11</td>\n    </tr>\n    <tr>\n      <th>1</th>\n      <td>1</td>\n      <td>Laying the network</td>\n      <td>Telecommunications_department</td>\n      <td>10</td>\n      <td>1</td>\n      <td>3</td>\n      <td>12</td>\n      <td>7</td>\n      <td>2021-12-05</td>\n    </tr>\n    <tr>\n      <th>2</th>\n      <td>2</td>\n      <td>Installing software</td>\n      <td>Information Resources Department</td>\n      <td>10</td>\n      <td>2</td>\n      <td>2</td>\n      <td>5</td>\n      <td>9</td>\n      <td>2021-05-15</td>\n    </tr>\n    <tr>\n      <th>3</th>\n      <td>3</td>\n      <td>Installing software</td>\n      <td>Telecommunications_department</td>\n      <td>10</td>\n      <td>2</td>\n      <td>2</td>\n      <td>11</td>\n      <td>5</td>\n      <td>2021-06-04</td>\n    </tr>\n    <tr>\n      <th>4</th>\n      <td>4</td>\n      <td>Mail</td>\n      <td>technical_department</td>\n      <td>10</td>\n      <td>5</td>\n      <td>2</td>\n      <td>12</td>\n      <td>1</td>\n      <td>2021-11-05</td>\n    </tr>\n  </tbody>\n</table>\n</div>"
     },
     "execution_count": 70,
     "metadata": {},
     "output_type": "execute_result"
    }
   ],
   "source": [
    "ord = pd.read_csv('datasLab2/orders.csv', sep=\";\", header=0, index_col=False)\n",
    "ord.describe()\n",
    "ord.head()\n",
    "\n",
    "\n",
    "# Описательная статистика представляет из себя таблицу с данными по каждому столбцу, данные в котором представлены числом. Содержатся следующие данные:\n",
    "    # count - количество не NAN значений\n",
    "    # mean - среднее по столбцу (числовое значение)\n",
    "    # std - стандартное отклонение\n",
    "    # min - минимальное значение\n",
    "    # max - максимальное значение\n",
    "    # max - максимальное значение\n",
    "    # 25% - Квантиль уровня четверть\n",
    "    # 50% - Квантиль уровня две четверти\n",
    "    # 75% - Квантиль уровня 3 четверти"
   ],
   "metadata": {
    "collapsed": false,
    "pycharm": {
     "name": "#%%\n"
    }
   }
  },
  {
   "cell_type": "code",
   "execution_count": 69,
   "outputs": [
    {
     "data": {
      "text/plain": "    Order_id  Order_type  Sub_department  mean_time  Difficulty_level  \\\n0          0           0               0         10                 4   \n1          1           1               0         10                 1   \n2          2           2               1         10                 2   \n3          3           2               0         10                 2   \n4          4           3               2         10                 5   \n5          5           1               2         10                 4   \n6          6           4               2         10                 3   \n7          7           3               1         10                 5   \n8          8           5               1         10                 5   \n9          9           6               2         10                 1   \n10        10           4               0         10                 2   \n11        11           0               0         10                 2   \n12        12           7               1         10                 5   \n13        13           8               0         10                 3   \n14        14           2               1         10                 2   \n15        15           0               2         10                 4   \n16        16           0               1         10                 3   \n17        17           6               1         10                 4   \n18        18           0               0         10                 5   \n19        19           5               2         10                 4   \n\n    Perform_peoples  Hull_number  Floor Execution_date  \n0                 3            8      2     1620680400  \n1                 3           12      7     1638651600  \n2                 2            5      9     1621026000  \n3                 2           11      5     1622754000  \n4                 2           12      1     1636059600  \n5                 3            6      5     1621630800  \n6                 2            3      5     1634504400  \n7                 3           11      8     1635282000  \n8                 3            2      3     1616187600  \n9                 1           11      5     1632171600  \n10                3           11      4     1612558800  \n11                2            9      6     1612386000  \n12                2            4      9     1623704400  \n13                3            3      1     1638824400  \n14                2            5      7     1618174800  \n15                1            6      7     1617051600  \n16                2            3      8     1627419600  \n17                1            5      8     1609966800  \n18                3           10      4     1619902800  \n19                2            2      3     1617742800  ",
      "text/html": "<div>\n<style scoped>\n    .dataframe tbody tr th:only-of-type {\n        vertical-align: middle;\n    }\n\n    .dataframe tbody tr th {\n        vertical-align: top;\n    }\n\n    .dataframe thead th {\n        text-align: right;\n    }\n</style>\n<table border=\"1\" class=\"dataframe\">\n  <thead>\n    <tr style=\"text-align: right;\">\n      <th></th>\n      <th>Order_id</th>\n      <th>Order_type</th>\n      <th>Sub_department</th>\n      <th>mean_time</th>\n      <th>Difficulty_level</th>\n      <th>Perform_peoples</th>\n      <th>Hull_number</th>\n      <th>Floor</th>\n      <th>Execution_date</th>\n    </tr>\n  </thead>\n  <tbody>\n    <tr>\n      <th>0</th>\n      <td>0</td>\n      <td>0</td>\n      <td>0</td>\n      <td>10</td>\n      <td>4</td>\n      <td>3</td>\n      <td>8</td>\n      <td>2</td>\n      <td>1620680400</td>\n    </tr>\n    <tr>\n      <th>1</th>\n      <td>1</td>\n      <td>1</td>\n      <td>0</td>\n      <td>10</td>\n      <td>1</td>\n      <td>3</td>\n      <td>12</td>\n      <td>7</td>\n      <td>1638651600</td>\n    </tr>\n    <tr>\n      <th>2</th>\n      <td>2</td>\n      <td>2</td>\n      <td>1</td>\n      <td>10</td>\n      <td>2</td>\n      <td>2</td>\n      <td>5</td>\n      <td>9</td>\n      <td>1621026000</td>\n    </tr>\n    <tr>\n      <th>3</th>\n      <td>3</td>\n      <td>2</td>\n      <td>0</td>\n      <td>10</td>\n      <td>2</td>\n      <td>2</td>\n      <td>11</td>\n      <td>5</td>\n      <td>1622754000</td>\n    </tr>\n    <tr>\n      <th>4</th>\n      <td>4</td>\n      <td>3</td>\n      <td>2</td>\n      <td>10</td>\n      <td>5</td>\n      <td>2</td>\n      <td>12</td>\n      <td>1</td>\n      <td>1636059600</td>\n    </tr>\n    <tr>\n      <th>5</th>\n      <td>5</td>\n      <td>1</td>\n      <td>2</td>\n      <td>10</td>\n      <td>4</td>\n      <td>3</td>\n      <td>6</td>\n      <td>5</td>\n      <td>1621630800</td>\n    </tr>\n    <tr>\n      <th>6</th>\n      <td>6</td>\n      <td>4</td>\n      <td>2</td>\n      <td>10</td>\n      <td>3</td>\n      <td>2</td>\n      <td>3</td>\n      <td>5</td>\n      <td>1634504400</td>\n    </tr>\n    <tr>\n      <th>7</th>\n      <td>7</td>\n      <td>3</td>\n      <td>1</td>\n      <td>10</td>\n      <td>5</td>\n      <td>3</td>\n      <td>11</td>\n      <td>8</td>\n      <td>1635282000</td>\n    </tr>\n    <tr>\n      <th>8</th>\n      <td>8</td>\n      <td>5</td>\n      <td>1</td>\n      <td>10</td>\n      <td>5</td>\n      <td>3</td>\n      <td>2</td>\n      <td>3</td>\n      <td>1616187600</td>\n    </tr>\n    <tr>\n      <th>9</th>\n      <td>9</td>\n      <td>6</td>\n      <td>2</td>\n      <td>10</td>\n      <td>1</td>\n      <td>1</td>\n      <td>11</td>\n      <td>5</td>\n      <td>1632171600</td>\n    </tr>\n    <tr>\n      <th>10</th>\n      <td>10</td>\n      <td>4</td>\n      <td>0</td>\n      <td>10</td>\n      <td>2</td>\n      <td>3</td>\n      <td>11</td>\n      <td>4</td>\n      <td>1612558800</td>\n    </tr>\n    <tr>\n      <th>11</th>\n      <td>11</td>\n      <td>0</td>\n      <td>0</td>\n      <td>10</td>\n      <td>2</td>\n      <td>2</td>\n      <td>9</td>\n      <td>6</td>\n      <td>1612386000</td>\n    </tr>\n    <tr>\n      <th>12</th>\n      <td>12</td>\n      <td>7</td>\n      <td>1</td>\n      <td>10</td>\n      <td>5</td>\n      <td>2</td>\n      <td>4</td>\n      <td>9</td>\n      <td>1623704400</td>\n    </tr>\n    <tr>\n      <th>13</th>\n      <td>13</td>\n      <td>8</td>\n      <td>0</td>\n      <td>10</td>\n      <td>3</td>\n      <td>3</td>\n      <td>3</td>\n      <td>1</td>\n      <td>1638824400</td>\n    </tr>\n    <tr>\n      <th>14</th>\n      <td>14</td>\n      <td>2</td>\n      <td>1</td>\n      <td>10</td>\n      <td>2</td>\n      <td>2</td>\n      <td>5</td>\n      <td>7</td>\n      <td>1618174800</td>\n    </tr>\n    <tr>\n      <th>15</th>\n      <td>15</td>\n      <td>0</td>\n      <td>2</td>\n      <td>10</td>\n      <td>4</td>\n      <td>1</td>\n      <td>6</td>\n      <td>7</td>\n      <td>1617051600</td>\n    </tr>\n    <tr>\n      <th>16</th>\n      <td>16</td>\n      <td>0</td>\n      <td>1</td>\n      <td>10</td>\n      <td>3</td>\n      <td>2</td>\n      <td>3</td>\n      <td>8</td>\n      <td>1627419600</td>\n    </tr>\n    <tr>\n      <th>17</th>\n      <td>17</td>\n      <td>6</td>\n      <td>1</td>\n      <td>10</td>\n      <td>4</td>\n      <td>1</td>\n      <td>5</td>\n      <td>8</td>\n      <td>1609966800</td>\n    </tr>\n    <tr>\n      <th>18</th>\n      <td>18</td>\n      <td>0</td>\n      <td>0</td>\n      <td>10</td>\n      <td>5</td>\n      <td>3</td>\n      <td>10</td>\n      <td>4</td>\n      <td>1619902800</td>\n    </tr>\n    <tr>\n      <th>19</th>\n      <td>19</td>\n      <td>5</td>\n      <td>2</td>\n      <td>10</td>\n      <td>4</td>\n      <td>2</td>\n      <td>2</td>\n      <td>3</td>\n      <td>1617742800</td>\n    </tr>\n  </tbody>\n</table>\n</div>"
     },
     "execution_count": 69,
     "metadata": {},
     "output_type": "execute_result"
    }
   ],
   "source": [
    "# В описательной статистике присутствуют только числовые данные, в таком случае, все нечисловые данные необходимо преобразовать в числовые\n",
    "# Для этого берём алгоритм первой лабораторной работы и подставляем туда имена нужных полей, которые именованы текстом\n",
    "ord = pd.read_csv('datasLab2/orders.csv', sep=\";\", header=0, index_col=False)\n",
    "\n",
    "# print(tm.mktime(dtn.datetime.strptime(str(dtn.date.today()), \"%Y-%m-%d\").timetuple()))\n",
    "criteria_list = ['Order_type','Sub_department','Execution_date']\n",
    "for i in range(len(criteria_list)):\n",
    "    # Формируем массивы всех значений каждого из значений criteria_list\n",
    "    all_col_values_list = ord[criteria_list[i]].unique()\n",
    "    # print(all_col_values_list)\n",
    "    for g in range(len(all_col_values_list)):\n",
    "        # Если работаем с датой, то меняем на таймстампы\n",
    "        if criteria_list[i] == 'Execution_date':\n",
    "            # print(all_col_values_list[g])\n",
    "            # print(tm.mktime(dtn.datetime.strptime(str(all_col_values_list[g]), \"%Y-%m-%d\").timetuple()))\n",
    "            ord[criteria_list[i]].replace({str(all_col_values_list[g]): str(int(tm.mktime(dtn.datetime.strptime(str(all_col_values_list[g]), \"%Y-%m-%d\").timetuple())))}, inplace=True)\n",
    "        else:\n",
    "            # Делаем замену непосредственно в самом датасете\n",
    "            ord[criteria_list[i]].replace({str(all_col_values_list[g]): g}, inplace=True)\n",
    "# Вывод датасета\n",
    "ord.head(20)"
   ],
   "metadata": {
    "collapsed": false,
    "pycharm": {
     "name": "#%%\n"
    }
   }
  }
 ],
 "metadata": {
  "kernelspec": {
   "display_name": "Python 3",
   "language": "python",
   "name": "python3"
  },
  "language_info": {
   "codemirror_mode": {
    "name": "ipython",
    "version": 2
   },
   "file_extension": ".py",
   "mimetype": "text/x-python",
   "name": "python",
   "nbconvert_exporter": "python",
   "pygments_lexer": "ipython2",
   "version": "2.7.6"
  }
 },
 "nbformat": 4,
 "nbformat_minor": 0
}