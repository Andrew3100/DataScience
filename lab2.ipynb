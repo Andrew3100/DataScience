{
 "cells": [
  {
   "cell_type": "code",
   "execution_count": 2,
   "metadata": {
    "collapsed": true
   },
   "outputs": [],
   "source": [
    "import numpy as np\n",
    "import pandas as pd\n",
    "import matplotlib\n",
    "import matplotlib.pyplot as plt\n",
    "import seaborn as sbn"
   ]
  },
  {
   "cell_type": "code",
   "execution_count": 7,
   "outputs": [
    {
     "data": {
      "text/plain": "     Order_id           Order_type                    Sub_department  \\\n0           0                   OS     Telecommunications_department   \n1           1   Laying the network     Telecommunications_department   \n2           2  Installing software  Information Resources Department   \n3           3  Installing software     Telecommunications_department   \n4           4                 Mail              technical_department   \n..        ...                  ...                               ...   \n195       195  Installing software  Information Resources Department   \n196       196                   OS  Information Resources Department   \n197       197   Laying the network     Telecommunications_department   \n198       198             Accounts  Information Resources Department   \n199       199                 Mail              technical_department   \n\n     mean_time  Difficulty_level  Perform_peoples  Hull_number  Floor  \\\n0           10                 4                3            8      2   \n1           10                 1                3           12      7   \n2           10                 2                2            5      9   \n3           10                 2                2           11      5   \n4           10                 5                2           12      1   \n..         ...               ...              ...          ...    ...   \n195         10                 2                3           10      4   \n196         10                 2                2            5      4   \n197         10                 3                1            6      4   \n198         10                 4                1            8      8   \n199         10                 4                1           10      7   \n\n    Execution_date  \n0       2021-05-11  \n1       2021-12-05  \n2       2021-05-15  \n3       2021-06-04  \n4       2021-11-05  \n..             ...  \n195     2021-07-03  \n196     2021-06-05  \n197     2021-06-20  \n198     2021-05-17  \n199     2021-11-24  \n\n[200 rows x 9 columns]",
      "text/html": "<div>\n<style scoped>\n    .dataframe tbody tr th:only-of-type {\n        vertical-align: middle;\n    }\n\n    .dataframe tbody tr th {\n        vertical-align: top;\n    }\n\n    .dataframe thead th {\n        text-align: right;\n    }\n</style>\n<table border=\"1\" class=\"dataframe\">\n  <thead>\n    <tr style=\"text-align: right;\">\n      <th></th>\n      <th>Order_id</th>\n      <th>Order_type</th>\n      <th>Sub_department</th>\n      <th>mean_time</th>\n      <th>Difficulty_level</th>\n      <th>Perform_peoples</th>\n      <th>Hull_number</th>\n      <th>Floor</th>\n      <th>Execution_date</th>\n    </tr>\n  </thead>\n  <tbody>\n    <tr>\n      <th>0</th>\n      <td>0</td>\n      <td>OS</td>\n      <td>Telecommunications_department</td>\n      <td>10</td>\n      <td>4</td>\n      <td>3</td>\n      <td>8</td>\n      <td>2</td>\n      <td>2021-05-11</td>\n    </tr>\n    <tr>\n      <th>1</th>\n      <td>1</td>\n      <td>Laying the network</td>\n      <td>Telecommunications_department</td>\n      <td>10</td>\n      <td>1</td>\n      <td>3</td>\n      <td>12</td>\n      <td>7</td>\n      <td>2021-12-05</td>\n    </tr>\n    <tr>\n      <th>2</th>\n      <td>2</td>\n      <td>Installing software</td>\n      <td>Information Resources Department</td>\n      <td>10</td>\n      <td>2</td>\n      <td>2</td>\n      <td>5</td>\n      <td>9</td>\n      <td>2021-05-15</td>\n    </tr>\n    <tr>\n      <th>3</th>\n      <td>3</td>\n      <td>Installing software</td>\n      <td>Telecommunications_department</td>\n      <td>10</td>\n      <td>2</td>\n      <td>2</td>\n      <td>11</td>\n      <td>5</td>\n      <td>2021-06-04</td>\n    </tr>\n    <tr>\n      <th>4</th>\n      <td>4</td>\n      <td>Mail</td>\n      <td>technical_department</td>\n      <td>10</td>\n      <td>5</td>\n      <td>2</td>\n      <td>12</td>\n      <td>1</td>\n      <td>2021-11-05</td>\n    </tr>\n    <tr>\n      <th>...</th>\n      <td>...</td>\n      <td>...</td>\n      <td>...</td>\n      <td>...</td>\n      <td>...</td>\n      <td>...</td>\n      <td>...</td>\n      <td>...</td>\n      <td>...</td>\n    </tr>\n    <tr>\n      <th>195</th>\n      <td>195</td>\n      <td>Installing software</td>\n      <td>Information Resources Department</td>\n      <td>10</td>\n      <td>2</td>\n      <td>3</td>\n      <td>10</td>\n      <td>4</td>\n      <td>2021-07-03</td>\n    </tr>\n    <tr>\n      <th>196</th>\n      <td>196</td>\n      <td>OS</td>\n      <td>Information Resources Department</td>\n      <td>10</td>\n      <td>2</td>\n      <td>2</td>\n      <td>5</td>\n      <td>4</td>\n      <td>2021-06-05</td>\n    </tr>\n    <tr>\n      <th>197</th>\n      <td>197</td>\n      <td>Laying the network</td>\n      <td>Telecommunications_department</td>\n      <td>10</td>\n      <td>3</td>\n      <td>1</td>\n      <td>6</td>\n      <td>4</td>\n      <td>2021-06-20</td>\n    </tr>\n    <tr>\n      <th>198</th>\n      <td>198</td>\n      <td>Accounts</td>\n      <td>Information Resources Department</td>\n      <td>10</td>\n      <td>4</td>\n      <td>1</td>\n      <td>8</td>\n      <td>8</td>\n      <td>2021-05-17</td>\n    </tr>\n    <tr>\n      <th>199</th>\n      <td>199</td>\n      <td>Mail</td>\n      <td>technical_department</td>\n      <td>10</td>\n      <td>4</td>\n      <td>1</td>\n      <td>10</td>\n      <td>7</td>\n      <td>2021-11-24</td>\n    </tr>\n  </tbody>\n</table>\n<p>200 rows × 9 columns</p>\n</div>"
     },
     "execution_count": 7,
     "metadata": {},
     "output_type": "execute_result"
    }
   ],
   "source": [
    "ord = pd.read_csv('datasLab2/orders.csv', sep=\";\", header=0, index_col=False)\n",
    "ord.head(200)"
   ],
   "metadata": {
    "collapsed": false,
    "pycharm": {
     "name": "#%%\n"
    }
   }
  }
 ],
 "metadata": {
  "kernelspec": {
   "display_name": "Python 3",
   "language": "python",
   "name": "python3"
  },
  "language_info": {
   "codemirror_mode": {
    "name": "ipython",
    "version": 2
   },
   "file_extension": ".py",
   "mimetype": "text/x-python",
   "name": "python",
   "nbconvert_exporter": "python",
   "pygments_lexer": "ipython2",
   "version": "2.7.6"
  }
 },
 "nbformat": 4,
 "nbformat_minor": 0
}