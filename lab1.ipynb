{
 "cells": [
  {
   "cell_type": "code",
   "execution_count": 8,
   "metadata": {
    "collapsed": true,
    "pycharm": {
     "name": "#%%\n"
    }
   },
   "outputs": [],
   "source": [
    "import numpy as np\n",
    "import pandas as pd\n",
    "import matplotlib\n",
    "import matplotlib.pyplot as plt\n",
    "import seaborn as sbn\n",
    "\n"
   ]
  },
  {
   "cell_type": "markdown",
   "source": [],
   "metadata": {
    "collapsed": false
   }
  },
  {
   "cell_type": "code",
   "execution_count": 9,
   "outputs": [],
   "source": [
    "AH = pd.read_csv('tips.csv', sep=\",\", header=0, index_col=False)"
   ],
   "metadata": {
    "collapsed": false,
    "pycharm": {
     "name": "#%%\n"
    }
   }
  },
  {
   "cell_type": "code",
   "execution_count": 3,
   "outputs": [
    {
     "name": "stdout",
     "output_type": "stream",
     "text": [
      "\n",
      "155 мужчин заплатили чаевые\n",
      "86 женщин заплатили чаевые\n"
     ]
    }
   ],
   "source": [
    "\n",
    "# print('Вопрос №1. Сколько мужчин и сколько женщин заплатили чаевые?')\n",
    "print()\n",
    "print(str((AH['sex'][AH['tip'] > 0].value_counts()['Male'])) + ' мужчин заплатили чаевые')\n",
    "print(str((AH['sex'][AH['tip'] > 0].value_counts()['Female'])) + ' женщин заплатили чаевые')"
   ],
   "metadata": {
    "collapsed": false,
    "pycharm": {
     "name": "#%%\n"
    }
   }
  },
  {
   "cell_type": "code",
   "execution_count": 4,
   "outputs": [
    {
     "name": "stdout",
     "output_type": "stream",
     "text": [
      "Вопрос №2. Определите долю курящих мужчин и женщин\n",
      "Доля курящих мужчин равна 0.38\n",
      "Доля курящих женщин равна 0.38\n"
     ]
    }
   ],
   "source": [
    "# Определите долю курящих среди мужчин и женщин.\n",
    "print('Вопрос №2. Определите долю курящих мужчин и женщин')\n",
    "# Доля курящих мужчин\n",
    "print(('Доля курящих мужчин равна ' + str(round(AH['sex'][AH['smoker'] == 'Yes'].value_counts()['Male'] / AH['sex'].value_counts()['Male'], 2))))\n",
    "# Доля курящих женщин\n",
    "print(('Доля курящих женщин равна ' + str(round(AH['sex'][AH['smoker'] == 'Yes'].value_counts()['Female'] / AH['sex'].value_counts()['Female'], 2))))"
   ],
   "metadata": {
    "collapsed": false,
    "pycharm": {
     "name": "#%%\n"
    }
   }
  },
  {
   "cell_type": "code",
   "execution_count": 5,
   "outputs": [
    {
     "name": "stdout",
     "output_type": "stream",
     "text": [
      "Вопрос №3. В какой день недели в среднем было максимальное количество посетителей? Учитывайте размер столика?\n",
      "В день недели Sun в среднем было 2.8 посетителей\n",
      "В день недели Sat в среднем было 2.5 посетителей\n",
      "В день недели Mon в среднем было 2.0 посетителей\n",
      "В день недели Thur в среднем было 2.5 посетителей\n",
      "В день недели Fri в среднем было 2.1 посетителей\n"
     ]
    }
   ],
   "source": [
    "print('Вопрос №3. В какой день недели в среднем было максимальное количество посетителей? Учитывайте размер столика?')\n",
    "\n",
    "# Пишем в массив уникальные элементы столбца DAY, так как изначально датасет содержит 4 из 7 дней недели и может быть изменён\n",
    "all_days_list = AH['day'].unique()\n",
    "# Перебираем массив all_days_list\n",
    "for i in range(0, len(all_days_list)):\n",
    "    print('В день недели ' + str(all_days_list[i]) + ' в среднем было ' + str(round(AH['size'][AH['day'] == all_days_list[i]].mean(), 1)) + ' посетителей')\n"
   ],
   "metadata": {
    "collapsed": false,
    "pycharm": {
     "name": "#%%\n"
    }
   }
  },
  {
   "cell_type": "code",
   "execution_count": 6,
   "outputs": [
    {
     "name": "stdout",
     "output_type": "stream",
     "text": [
      "Вопрос №4. На какое время суток приходится наибольшее количество чаевых?\n",
      "Во время Dinner в среднем было 3.0 рублей чаевых\n",
      "Во время Lunch в среднем было 2.7 рублей чаевых\n"
     ]
    }
   ],
   "source": [
    "print('Вопрос №4. На какое время суток приходится наибольшее количество чаевых?')\n",
    "# Та же фича, что и с днями недели в датасете, только по времени дня\n",
    "all_time_list = AH['time'].unique()\n",
    "for i in range(0, len(all_time_list)):\n",
    "    print('Во время ' + str(all_time_list[i]) + ' в среднем было ' + str(round(AH['tip'][AH['time'] == all_time_list[i]].mean(), 1)) + ' рублей чаевых')"
   ],
   "metadata": {
    "collapsed": false,
    "pycharm": {
     "name": "#%%\n"
    }
   }
  },
  {
   "cell_type": "code",
   "execution_count": 7,
   "outputs": [
    {
     "name": "stdout",
     "output_type": "stream",
     "text": [
      "\n",
      "Вопрос №5. В какой день недели был заказ с максимальным счётом?\n",
      "Заказ с максимальным счётом пришёлся на Sat и составил 100.18 долларов\n"
     ]
    }
   ],
   "source": [
    "print()\n",
    "print('Вопрос №5. В какой день недели был заказ с максимальным счётом?')\n",
    "\n",
    "max_total_bill = AH['total_bill'].max()\n",
    "max_total_bill_day = AH[AH['total_bill'] == max_total_bill]['day']\n",
    "\n",
    "print('Заказ с максимальным счётом пришёлся на ' + str(max_total_bill_day.values[0]) + ' и составил ' + str(max_total_bill) + ' долларов')"
   ],
   "metadata": {
    "collapsed": false,
    "pycharm": {
     "name": "#%%\n"
    }
   }
  },
  {
   "cell_type": "code",
   "execution_count": 11,
   "outputs": [
    {
     "data": {
      "text/plain": "<AxesSubplot:xlabel='day', ylabel='total_bill'>"
     },
     "execution_count": 11,
     "metadata": {},
     "output_type": "execute_result"
    },
    {
     "data": {
      "text/plain": "<Figure size 432x288 with 1 Axes>",
      "image/png": "[encoded data removed]"
     },
     "metadata": {
      "needs_background": "light"
     },
     "output_type": "display_data"
    }
   ],
   "source": [
    "\n",
    "#6 Постройте столбчатую гистограмму, где данные сгруппированы по дню недели (X) и медианное значение общего счета (Y).\n",
    "# Столбцы для каждого дня должны учитывать, курит посетитель или нет\n",
    "\n",
    "sbn.barplot(x='day', y='total_bill', hue='smoker', data=AH) "
   ],
   "metadata": {
    "collapsed": false,
    "pycharm": {
     "name": "#%%\n"
    }
   }
  },
  {
   "cell_type": "code",
   "execution_count": 9,
   "outputs": [],
   "source": [],
   "metadata": {
    "collapsed": false,
    "pycharm": {
     "name": "#%%\n"
    }
   }
  }
 ],
 "metadata": {
  "kernelspec": {
   "display_name": "Python 3",
   "language": "python",
   "name": "python3"
  },
  "language_info": {
   "codemirror_mode": {
    "name": "ipython",
    "version": 2
   },
   "file_extension": ".py",
   "mimetype": "text/x-python",
   "name": "python",
   "nbconvert_exporter": "python",
   "pygments_lexer": "ipython2",
   "version": "2.7.6"
  }
 },
 "nbformat": 4,
 "nbformat_minor": 0
}