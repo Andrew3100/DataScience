{
 "nbformat": 4,
 "nbformat_minor": 0,
 "metadata": {
  "kernelspec": {
   "display_name": "Python 3",
   "language": "python",
   "name": "python3"
  },
  "language_info": {
   "codemirror_mode": {
    "name": "ipython",
    "version": 3
   },
   "file_extension": ".py",
   "mimetype": "text/x-python",
   "name": "python",
   "nbconvert_exporter": "python",
   "pygments_lexer": "ipython3",
   "version": "3.7.1"
  },
  "colab": {
   "name": "L_3_DescriptiveStatistics.ipynb",
   "provenance": [],
   "collapsed_sections": []
  }
 },
 "cells": [
  {
   "cell_type": "markdown",
   "source": [
    "Описательная статистика"
   ],
   "metadata": {
    "collapsed": false
   }
  },
  {
   "cell_type": "code",
   "execution_count": 1,
   "outputs": [],
   "source": [
    "import pandas as pd\n",
    "import numpy as np\n",
    "import os\n",
    "import matplotlib\n",
    "import matplotlib.pyplot as plt\n",
    "import seaborn as sns"
   ],
   "metadata": {
    "collapsed": false,
    "pycharm": {
     "name": "#%%\n"
    }
   }
  },
  {
   "cell_type": "code",
   "execution_count": null,
   "outputs": [],
   "source": [],
   "metadata": {
    "collapsed": false,
    "pycharm": {
     "name": "#%%\n"
    }
   }
  },
  {
   "cell_type": "code",
   "execution_count": 2,
   "outputs": [],
   "source": [
    "# from google.colab import drive\n",
    "# drive.mount('/content/drive')"
   ],
   "metadata": {
    "collapsed": false,
    "pycharm": {
     "name": "#%%\n"
    }
   }
  },
  {
   "cell_type": "code",
   "execution_count": null,
   "outputs": [],
   "source": [
    "# os.chdir(\"/content/drive/My Drive/BSU/DataSet/DescriptiveStatistics/\")"
   ],
   "metadata": {
    "collapsed": false,
    "pycharm": {
     "name": "#%%\n"
    }
   }
  },
  {
   "cell_type": "code",
   "execution_count": 4,
   "outputs": [
    {
     "data": {
      "text/plain": "    Order        PID  MS SubClass MS Zoning  Lot Frontage  Lot Area Street  \\\n0       1  526301100           20        RL         141.0     31770   Pave   \n1       2  526350040           20        RH          80.0     11622   Pave   \n2       3  526351010           20        RL          81.0     14267   Pave   \n3       4  526353030           20        RL          93.0     11160   Pave   \n4       5  527105010           60        RL          74.0     13830   Pave   \n5       6  527105030           60        RL          78.0      9978   Pave   \n6       7  527127150          120        RL          41.0      4920   Pave   \n7       8  527145080          120        RL          43.0      5005   Pave   \n8       9  527146030          120        RL          39.0      5389   Pave   \n9      10  527162130           60        RL          60.0      7500   Pave   \n10     11  527163010           60        RL          75.0     10000   Pave   \n11     12  527165230           20        RL           NaN      7980   Pave   \n12     13  527166040           60        RL          63.0      8402   Pave   \n13     14  527180040           20        RL          85.0     10176   Pave   \n14     15  527182190          120        RL           NaN      6820   Pave   \n15     16  527216070           60        RL          47.0     53504   Pave   \n16     17  527225035           50        RL         152.0     12134   Pave   \n17     18  527258010           20        RL          88.0     11394   Pave   \n18     19  527276150           20        RL         140.0     19138   Pave   \n19     20  527302110           20        RL          85.0     13175   Pave   \n\n   Alley Lot Shape Land Contour  ... Pool Area Pool QC  Fence Misc Feature  \\\n0    NaN       IR1          Lvl  ...         0     NaN    NaN          NaN   \n1    NaN       Reg          Lvl  ...         0     NaN  MnPrv          NaN   \n2    NaN       IR1          Lvl  ...         0     NaN    NaN         Gar2   \n3    NaN       Reg          Lvl  ...         0     NaN    NaN          NaN   \n4    NaN       IR1          Lvl  ...         0     NaN  MnPrv          NaN   \n5    NaN       IR1          Lvl  ...         0     NaN    NaN          NaN   \n6    NaN       Reg          Lvl  ...         0     NaN    NaN          NaN   \n7    NaN       IR1          HLS  ...         0     NaN    NaN          NaN   \n8    NaN       IR1          Lvl  ...         0     NaN    NaN          NaN   \n9    NaN       Reg          Lvl  ...         0     NaN    NaN          NaN   \n10   NaN       IR1          Lvl  ...         0     NaN    NaN          NaN   \n11   NaN       IR1          Lvl  ...         0     NaN  GdPrv         Shed   \n12   NaN       IR1          Lvl  ...         0     NaN    NaN          NaN   \n13   NaN       Reg          Lvl  ...         0     NaN    NaN          NaN   \n14   NaN       IR1          Lvl  ...         0     NaN    NaN          NaN   \n15   NaN       IR2          HLS  ...         0     NaN    NaN          NaN   \n16   NaN       IR1          Bnk  ...         0     NaN    NaN          NaN   \n17   NaN       Reg          Lvl  ...         0     NaN    NaN          NaN   \n18   NaN       Reg          Lvl  ...         0     NaN    NaN          NaN   \n19   NaN       Reg          Lvl  ...         0     NaN  MnPrv          NaN   \n\n   Misc Val Mo Sold Yr Sold Sale Type  Sale Condition  SalePrice  \n0         0       5    2010       WD           Normal     215000  \n1         0       6    2010       WD           Normal     105000  \n2     12500       6    2010       WD           Normal     172000  \n3         0       4    2010       WD           Normal     244000  \n4         0       3    2010       WD           Normal     189900  \n5         0       6    2010       WD           Normal     195500  \n6         0       4    2010       WD           Normal     213500  \n7         0       1    2010       WD           Normal     191500  \n8         0       3    2010       WD           Normal     236500  \n9         0       6    2010       WD           Normal     189000  \n10        0       4    2010       WD           Normal     175900  \n11      500       3    2010       WD           Normal     185000  \n12        0       5    2010       WD           Normal     180400  \n13        0       2    2010       WD           Normal     171500  \n14        0       6    2010       WD           Normal     212000  \n15        0       6    2010       WD           Normal     538000  \n16        0       6    2010       WD           Normal     164000  \n17        0       6    2010       New         Partial     394432  \n18        0       6    2010       WD           Normal     141000  \n19        0       2    2010       WD           Normal     210000  \n\n[20 rows x 82 columns]",
      "text/html": "<div>\n<style scoped>\n    .dataframe tbody tr th:only-of-type {\n        vertical-align: middle;\n    }\n\n    .dataframe tbody tr th {\n        vertical-align: top;\n    }\n\n    .dataframe thead th {\n        text-align: right;\n    }\n</style>\n<table border=\"1\" class=\"dataframe\">\n  <thead>\n    <tr style=\"text-align: right;\">\n      <th></th>\n      <th>Order</th>\n      <th>PID</th>\n      <th>MS SubClass</th>\n      <th>MS Zoning</th>\n      <th>Lot Frontage</th>\n      <th>Lot Area</th>\n      <th>Street</th>\n      <th>Alley</th>\n      <th>Lot Shape</th>\n      <th>Land Contour</th>\n      <th>...</th>\n      <th>Pool Area</th>\n      <th>Pool QC</th>\n      <th>Fence</th>\n      <th>Misc Feature</th>\n      <th>Misc Val</th>\n      <th>Mo Sold</th>\n      <th>Yr Sold</th>\n      <th>Sale Type</th>\n      <th>Sale Condition</th>\n      <th>SalePrice</th>\n    </tr>\n  </thead>\n  <tbody>\n    <tr>\n      <th>0</th>\n      <td>1</td>\n      <td>526301100</td>\n      <td>20</td>\n      <td>RL</td>\n      <td>141.0</td>\n      <td>31770</td>\n      <td>Pave</td>\n      <td>NaN</td>\n      <td>IR1</td>\n      <td>Lvl</td>\n      <td>...</td>\n      <td>0</td>\n      <td>NaN</td>\n      <td>NaN</td>\n      <td>NaN</td>\n      <td>0</td>\n      <td>5</td>\n      <td>2010</td>\n      <td>WD</td>\n      <td>Normal</td>\n      <td>215000</td>\n    </tr>\n    <tr>\n      <th>1</th>\n      <td>2</td>\n      <td>526350040</td>\n      <td>20</td>\n      <td>RH</td>\n      <td>80.0</td>\n      <td>11622</td>\n      <td>Pave</td>\n      <td>NaN</td>\n      <td>Reg</td>\n      <td>Lvl</td>\n      <td>...</td>\n      <td>0</td>\n      <td>NaN</td>\n      <td>MnPrv</td>\n      <td>NaN</td>\n      <td>0</td>\n      <td>6</td>\n      <td>2010</td>\n      <td>WD</td>\n      <td>Normal</td>\n      <td>105000</td>\n    </tr>\n    <tr>\n      <th>2</th>\n      <td>3</td>\n      <td>526351010</td>\n      <td>20</td>\n      <td>RL</td>\n      <td>81.0</td>\n      <td>14267</td>\n      <td>Pave</td>\n      <td>NaN</td>\n      <td>IR1</td>\n      <td>Lvl</td>\n      <td>...</td>\n      <td>0</td>\n      <td>NaN</td>\n      <td>NaN</td>\n      <td>Gar2</td>\n      <td>12500</td>\n      <td>6</td>\n      <td>2010</td>\n      <td>WD</td>\n      <td>Normal</td>\n      <td>172000</td>\n    </tr>\n    <tr>\n      <th>3</th>\n      <td>4</td>\n      <td>526353030</td>\n      <td>20</td>\n      <td>RL</td>\n      <td>93.0</td>\n      <td>11160</td>\n      <td>Pave</td>\n      <td>NaN</td>\n      <td>Reg</td>\n      <td>Lvl</td>\n      <td>...</td>\n      <td>0</td>\n      <td>NaN</td>\n      <td>NaN</td>\n      <td>NaN</td>\n      <td>0</td>\n      <td>4</td>\n      <td>2010</td>\n      <td>WD</td>\n      <td>Normal</td>\n      <td>244000</td>\n    </tr>\n    <tr>\n      <th>4</th>\n      <td>5</td>\n      <td>527105010</td>\n      <td>60</td>\n      <td>RL</td>\n      <td>74.0</td>\n      <td>13830</td>\n      <td>Pave</td>\n      <td>NaN</td>\n      <td>IR1</td>\n      <td>Lvl</td>\n      <td>...</td>\n      <td>0</td>\n      <td>NaN</td>\n      <td>MnPrv</td>\n      <td>NaN</td>\n      <td>0</td>\n      <td>3</td>\n      <td>2010</td>\n      <td>WD</td>\n      <td>Normal</td>\n      <td>189900</td>\n    </tr>\n    <tr>\n      <th>5</th>\n      <td>6</td>\n      <td>527105030</td>\n      <td>60</td>\n      <td>RL</td>\n      <td>78.0</td>\n      <td>9978</td>\n      <td>Pave</td>\n      <td>NaN</td>\n      <td>IR1</td>\n      <td>Lvl</td>\n      <td>...</td>\n      <td>0</td>\n      <td>NaN</td>\n      <td>NaN</td>\n      <td>NaN</td>\n      <td>0</td>\n      <td>6</td>\n      <td>2010</td>\n      <td>WD</td>\n      <td>Normal</td>\n      <td>195500</td>\n    </tr>\n    <tr>\n      <th>6</th>\n      <td>7</td>\n      <td>527127150</td>\n      <td>120</td>\n      <td>RL</td>\n      <td>41.0</td>\n      <td>4920</td>\n      <td>Pave</td>\n      <td>NaN</td>\n      <td>Reg</td>\n      <td>Lvl</td>\n      <td>...</td>\n      <td>0</td>\n      <td>NaN</td>\n      <td>NaN</td>\n      <td>NaN</td>\n      <td>0</td>\n      <td>4</td>\n      <td>2010</td>\n      <td>WD</td>\n      <td>Normal</td>\n      <td>213500</td>\n    </tr>\n    <tr>\n      <th>7</th>\n      <td>8</td>\n      <td>527145080</td>\n      <td>120</td>\n      <td>RL</td>\n      <td>43.0</td>\n      <td>5005</td>\n      <td>Pave</td>\n      <td>NaN</td>\n      <td>IR1</td>\n      <td>HLS</td>\n      <td>...</td>\n      <td>0</td>\n      <td>NaN</td>\n      <td>NaN</td>\n      <td>NaN</td>\n      <td>0</td>\n      <td>1</td>\n      <td>2010</td>\n      <td>WD</td>\n      <td>Normal</td>\n      <td>191500</td>\n    </tr>\n    <tr>\n      <th>8</th>\n      <td>9</td>\n      <td>527146030</td>\n      <td>120</td>\n      <td>RL</td>\n      <td>39.0</td>\n      <td>5389</td>\n      <td>Pave</td>\n      <td>NaN</td>\n      <td>IR1</td>\n      <td>Lvl</td>\n      <td>...</td>\n      <td>0</td>\n      <td>NaN</td>\n      <td>NaN</td>\n      <td>NaN</td>\n      <td>0</td>\n      <td>3</td>\n      <td>2010</td>\n      <td>WD</td>\n      <td>Normal</td>\n      <td>236500</td>\n    </tr>\n    <tr>\n      <th>9</th>\n      <td>10</td>\n      <td>527162130</td>\n      <td>60</td>\n      <td>RL</td>\n      <td>60.0</td>\n      <td>7500</td>\n      <td>Pave</td>\n      <td>NaN</td>\n      <td>Reg</td>\n      <td>Lvl</td>\n      <td>...</td>\n      <td>0</td>\n      <td>NaN</td>\n      <td>NaN</td>\n      <td>NaN</td>\n      <td>0</td>\n      <td>6</td>\n      <td>2010</td>\n      <td>WD</td>\n      <td>Normal</td>\n      <td>189000</td>\n    </tr>\n    <tr>\n      <th>10</th>\n      <td>11</td>\n      <td>527163010</td>\n      <td>60</td>\n      <td>RL</td>\n      <td>75.0</td>\n      <td>10000</td>\n      <td>Pave</td>\n      <td>NaN</td>\n      <td>IR1</td>\n      <td>Lvl</td>\n      <td>...</td>\n      <td>0</td>\n      <td>NaN</td>\n      <td>NaN</td>\n      <td>NaN</td>\n      <td>0</td>\n      <td>4</td>\n      <td>2010</td>\n      <td>WD</td>\n      <td>Normal</td>\n      <td>175900</td>\n    </tr>\n    <tr>\n      <th>11</th>\n      <td>12</td>\n      <td>527165230</td>\n      <td>20</td>\n      <td>RL</td>\n      <td>NaN</td>\n      <td>7980</td>\n      <td>Pave</td>\n      <td>NaN</td>\n      <td>IR1</td>\n      <td>Lvl</td>\n      <td>...</td>\n      <td>0</td>\n      <td>NaN</td>\n      <td>GdPrv</td>\n      <td>Shed</td>\n      <td>500</td>\n      <td>3</td>\n      <td>2010</td>\n      <td>WD</td>\n      <td>Normal</td>\n      <td>185000</td>\n    </tr>\n    <tr>\n      <th>12</th>\n      <td>13</td>\n      <td>527166040</td>\n      <td>60</td>\n      <td>RL</td>\n      <td>63.0</td>\n      <td>8402</td>\n      <td>Pave</td>\n      <td>NaN</td>\n      <td>IR1</td>\n      <td>Lvl</td>\n      <td>...</td>\n      <td>0</td>\n      <td>NaN</td>\n      <td>NaN</td>\n      <td>NaN</td>\n      <td>0</td>\n      <td>5</td>\n      <td>2010</td>\n      <td>WD</td>\n      <td>Normal</td>\n      <td>180400</td>\n    </tr>\n    <tr>\n      <th>13</th>\n      <td>14</td>\n      <td>527180040</td>\n      <td>20</td>\n      <td>RL</td>\n      <td>85.0</td>\n      <td>10176</td>\n      <td>Pave</td>\n      <td>NaN</td>\n      <td>Reg</td>\n      <td>Lvl</td>\n      <td>...</td>\n      <td>0</td>\n      <td>NaN</td>\n      <td>NaN</td>\n      <td>NaN</td>\n      <td>0</td>\n      <td>2</td>\n      <td>2010</td>\n      <td>WD</td>\n      <td>Normal</td>\n      <td>171500</td>\n    </tr>\n    <tr>\n      <th>14</th>\n      <td>15</td>\n      <td>527182190</td>\n      <td>120</td>\n      <td>RL</td>\n      <td>NaN</td>\n      <td>6820</td>\n      <td>Pave</td>\n      <td>NaN</td>\n      <td>IR1</td>\n      <td>Lvl</td>\n      <td>...</td>\n      <td>0</td>\n      <td>NaN</td>\n      <td>NaN</td>\n      <td>NaN</td>\n      <td>0</td>\n      <td>6</td>\n      <td>2010</td>\n      <td>WD</td>\n      <td>Normal</td>\n      <td>212000</td>\n    </tr>\n    <tr>\n      <th>15</th>\n      <td>16</td>\n      <td>527216070</td>\n      <td>60</td>\n      <td>RL</td>\n      <td>47.0</td>\n      <td>53504</td>\n      <td>Pave</td>\n      <td>NaN</td>\n      <td>IR2</td>\n      <td>HLS</td>\n      <td>...</td>\n      <td>0</td>\n      <td>NaN</td>\n      <td>NaN</td>\n      <td>NaN</td>\n      <td>0</td>\n      <td>6</td>\n      <td>2010</td>\n      <td>WD</td>\n      <td>Normal</td>\n      <td>538000</td>\n    </tr>\n    <tr>\n      <th>16</th>\n      <td>17</td>\n      <td>527225035</td>\n      <td>50</td>\n      <td>RL</td>\n      <td>152.0</td>\n      <td>12134</td>\n      <td>Pave</td>\n      <td>NaN</td>\n      <td>IR1</td>\n      <td>Bnk</td>\n      <td>...</td>\n      <td>0</td>\n      <td>NaN</td>\n      <td>NaN</td>\n      <td>NaN</td>\n      <td>0</td>\n      <td>6</td>\n      <td>2010</td>\n      <td>WD</td>\n      <td>Normal</td>\n      <td>164000</td>\n    </tr>\n    <tr>\n      <th>17</th>\n      <td>18</td>\n      <td>527258010</td>\n      <td>20</td>\n      <td>RL</td>\n      <td>88.0</td>\n      <td>11394</td>\n      <td>Pave</td>\n      <td>NaN</td>\n      <td>Reg</td>\n      <td>Lvl</td>\n      <td>...</td>\n      <td>0</td>\n      <td>NaN</td>\n      <td>NaN</td>\n      <td>NaN</td>\n      <td>0</td>\n      <td>6</td>\n      <td>2010</td>\n      <td>New</td>\n      <td>Partial</td>\n      <td>394432</td>\n    </tr>\n    <tr>\n      <th>18</th>\n      <td>19</td>\n      <td>527276150</td>\n      <td>20</td>\n      <td>RL</td>\n      <td>140.0</td>\n      <td>19138</td>\n      <td>Pave</td>\n      <td>NaN</td>\n      <td>Reg</td>\n      <td>Lvl</td>\n      <td>...</td>\n      <td>0</td>\n      <td>NaN</td>\n      <td>NaN</td>\n      <td>NaN</td>\n      <td>0</td>\n      <td>6</td>\n      <td>2010</td>\n      <td>WD</td>\n      <td>Normal</td>\n      <td>141000</td>\n    </tr>\n    <tr>\n      <th>19</th>\n      <td>20</td>\n      <td>527302110</td>\n      <td>20</td>\n      <td>RL</td>\n      <td>85.0</td>\n      <td>13175</td>\n      <td>Pave</td>\n      <td>NaN</td>\n      <td>Reg</td>\n      <td>Lvl</td>\n      <td>...</td>\n      <td>0</td>\n      <td>NaN</td>\n      <td>MnPrv</td>\n      <td>NaN</td>\n      <td>0</td>\n      <td>2</td>\n      <td>2010</td>\n      <td>WD</td>\n      <td>Normal</td>\n      <td>210000</td>\n    </tr>\n  </tbody>\n</table>\n<p>20 rows × 82 columns</p>\n</div>"
     },
     "execution_count": 4,
     "metadata": {},
     "output_type": "execute_result"
    }
   ],
   "source": [
    "# Набор данных содержит информацию из офиса Ames Assessor Office, используемую для вычисления оценочных значений\n",
    "#для отдельных жилых объектов, проданных в Ames, IA с 2006 по 2010 год.\n",
    "\n",
    "AH = pd.read_csv('AmesHousing.txt', sep=\"\\t\", header = 0, index_col=False)\n",
    "# https://pandas.pydata.org/pandas-docs/stable/generated/pandas.read_csv.html\n",
    "# Полезные параметры:\n",
    "\n",
    "#     sep -- задаёт символ-разделитель полей в файле (по умолчанию разделитель запятая); sep=\"\\t\" - сепаратор табуляция\n",
    "#     names -- список названий колонок, если он не задан в файле;\n",
    "#     index_col -- номер колонки с индексом.\n",
    "#     decimal -- символ-разделитель для знаков после запятой.\n",
    "#          decimal=b',',\n",
    "AH.head(20)"
   ],
   "metadata": {
    "collapsed": false,
    "pycharm": {
     "name": "#%%\n"
    }
   }
  },
  {
   "cell_type": "code",
   "metadata": {
    "id": "bcKyrCIhWpBo"
   },
   "source": [
    "print(AH.shape)"
   ],
   "execution_count": 5,
   "outputs": [
    {
     "name": "stdout",
     "output_type": "stream",
     "text": [
      "(2930, 82)\n"
     ]
    }
   ]
  },
  {
   "cell_type": "code",
   "metadata": {
    "id": "nKuzF1EnWpBv"
   },
   "source": [
    "print(len(AH))"
   ],
   "execution_count": 6,
   "outputs": [
    {
     "name": "stdout",
     "output_type": "stream",
     "text": [
      "2930\n"
     ]
    }
   ]
  },
  {
   "cell_type": "code",
   "metadata": {
    "id": "NwuM1DtIWpB7"
   },
   "source": [
    "AH.dtypes"
   ],
   "execution_count": 7,
   "outputs": [
    {
     "data": {
      "text/plain": "Order               int64\nPID                 int64\nMS SubClass         int64\nMS Zoning          object\nLot Frontage      float64\n                   ...   \nMo Sold             int64\nYr Sold             int64\nSale Type          object\nSale Condition     object\nSalePrice           int64\nLength: 82, dtype: object"
     },
     "execution_count": 7,
     "metadata": {},
     "output_type": "execute_result"
    }
   ]
  },
  {
   "cell_type": "code",
   "metadata": {
    "id": "RjN0WTpHWpCE"
   },
   "source": [
    "AH[\"Order\"].dtype"
   ],
   "execution_count": 8,
   "outputs": [
    {
     "data": {
      "text/plain": "dtype('int64')"
     },
     "execution_count": 8,
     "metadata": {},
     "output_type": "execute_result"
    }
   ]
  },
  {
   "cell_type": "markdown",
   "metadata": {
    "id": "r7-HJDqFWpCN"
   },
   "source": [
    "Данные могут измеряться различными шкалами.\n",
    "- Количественная шкала, то есть результат измерения представляет собой число (килограммы, метры, литры, минуты)\n",
    "- Порядковая шкала, то есть результат измерения можно сравнивать между собой, но такие операции как, например разность, не имеют смысла (место занятое атлетом на соревновании)\n",
    "- Номинальная шкала, то есть результат измерения получается число или числовой код, и сравнивать эти числа нельзя (код города)"
   ]
  },
  {
   "cell_type": "code",
   "metadata": {
    "id": "dGtvLGH-WpCO"
   },
   "source": [
    "#Выведем описательную статистику\n",
    "AH.describe(include='all')"
   ],
   "execution_count": 9,
   "outputs": [
    {
     "data": {
      "text/plain": "             Order           PID  MS SubClass MS Zoning  Lot Frontage  \\\ncount   2930.00000  2.930000e+03  2930.000000      2930   2440.000000   \nunique         NaN           NaN          NaN         7           NaN   \ntop            NaN           NaN          NaN        RL           NaN   \nfreq           NaN           NaN          NaN      2273           NaN   \nmean    1465.50000  7.144645e+08    57.387372       NaN     69.224590   \nstd      845.96247  1.887308e+08    42.638025       NaN     23.365335   \nmin        1.00000  5.263011e+08    20.000000       NaN     21.000000   \n25%      733.25000  5.284770e+08    20.000000       NaN     58.000000   \n50%     1465.50000  5.354536e+08    50.000000       NaN     68.000000   \n75%     2197.75000  9.071811e+08    70.000000       NaN     80.000000   \nmax     2930.00000  1.007100e+09   190.000000       NaN    313.000000   \n\n             Lot Area Street Alley Lot Shape Land Contour  ...    Pool Area  \\\ncount     2930.000000   2930   198      2930         2930  ...  2930.000000   \nunique            NaN      2     2         4            4  ...          NaN   \ntop               NaN   Pave  Grvl       Reg          Lvl  ...          NaN   \nfreq              NaN   2918   120      1859         2633  ...          NaN   \nmean     10147.921843    NaN   NaN       NaN          NaN  ...     2.243345   \nstd       7880.017759    NaN   NaN       NaN          NaN  ...    35.597181   \nmin       1300.000000    NaN   NaN       NaN          NaN  ...     0.000000   \n25%       7440.250000    NaN   NaN       NaN          NaN  ...     0.000000   \n50%       9436.500000    NaN   NaN       NaN          NaN  ...     0.000000   \n75%      11555.250000    NaN   NaN       NaN          NaN  ...     0.000000   \nmax     215245.000000    NaN   NaN       NaN          NaN  ...   800.000000   \n\n       Pool QC  Fence Misc Feature      Misc Val      Mo Sold      Yr Sold  \\\ncount       13    572          106   2930.000000  2930.000000  2930.000000   \nunique       4      4            5           NaN          NaN          NaN   \ntop         Ex  MnPrv         Shed           NaN          NaN          NaN   \nfreq         4    330           95           NaN          NaN          NaN   \nmean       NaN    NaN          NaN     50.635154     6.216041  2007.790444   \nstd        NaN    NaN          NaN    566.344288     2.714492     1.316613   \nmin        NaN    NaN          NaN      0.000000     1.000000  2006.000000   \n25%        NaN    NaN          NaN      0.000000     4.000000  2007.000000   \n50%        NaN    NaN          NaN      0.000000     6.000000  2008.000000   \n75%        NaN    NaN          NaN      0.000000     8.000000  2009.000000   \nmax        NaN    NaN          NaN  17000.000000    12.000000  2010.000000   \n\n       Sale Type  Sale Condition      SalePrice  \ncount       2930            2930    2930.000000  \nunique        10               6            NaN  \ntop          WD           Normal            NaN  \nfreq        2536            2413            NaN  \nmean         NaN             NaN  180796.060068  \nstd          NaN             NaN   79886.692357  \nmin          NaN             NaN   12789.000000  \n25%          NaN             NaN  129500.000000  \n50%          NaN             NaN  160000.000000  \n75%          NaN             NaN  213500.000000  \nmax          NaN             NaN  755000.000000  \n\n[11 rows x 82 columns]",
      "text/html": "<div>\n<style scoped>\n    .dataframe tbody tr th:only-of-type {\n        vertical-align: middle;\n    }\n\n    .dataframe tbody tr th {\n        vertical-align: top;\n    }\n\n    .dataframe thead th {\n        text-align: right;\n    }\n</style>\n<table border=\"1\" class=\"dataframe\">\n  <thead>\n    <tr style=\"text-align: right;\">\n      <th></th>\n      <th>Order</th>\n      <th>PID</th>\n      <th>MS SubClass</th>\n      <th>MS Zoning</th>\n      <th>Lot Frontage</th>\n      <th>Lot Area</th>\n      <th>Street</th>\n      <th>Alley</th>\n      <th>Lot Shape</th>\n      <th>Land Contour</th>\n      <th>...</th>\n      <th>Pool Area</th>\n      <th>Pool QC</th>\n      <th>Fence</th>\n      <th>Misc Feature</th>\n      <th>Misc Val</th>\n      <th>Mo Sold</th>\n      <th>Yr Sold</th>\n      <th>Sale Type</th>\n      <th>Sale Condition</th>\n      <th>SalePrice</th>\n    </tr>\n  </thead>\n  <tbody>\n    <tr>\n      <th>count</th>\n      <td>2930.00000</td>\n      <td>2.930000e+03</td>\n      <td>2930.000000</td>\n      <td>2930</td>\n      <td>2440.000000</td>\n      <td>2930.000000</td>\n      <td>2930</td>\n      <td>198</td>\n      <td>2930</td>\n      <td>2930</td>\n      <td>...</td>\n      <td>2930.000000</td>\n      <td>13</td>\n      <td>572</td>\n      <td>106</td>\n      <td>2930.000000</td>\n      <td>2930.000000</td>\n      <td>2930.000000</td>\n      <td>2930</td>\n      <td>2930</td>\n      <td>2930.000000</td>\n    </tr>\n    <tr>\n      <th>unique</th>\n      <td>NaN</td>\n      <td>NaN</td>\n      <td>NaN</td>\n      <td>7</td>\n      <td>NaN</td>\n      <td>NaN</td>\n      <td>2</td>\n      <td>2</td>\n      <td>4</td>\n      <td>4</td>\n      <td>...</td>\n      <td>NaN</td>\n      <td>4</td>\n      <td>4</td>\n      <td>5</td>\n      <td>NaN</td>\n      <td>NaN</td>\n      <td>NaN</td>\n      <td>10</td>\n      <td>6</td>\n      <td>NaN</td>\n    </tr>\n    <tr>\n      <th>top</th>\n      <td>NaN</td>\n      <td>NaN</td>\n      <td>NaN</td>\n      <td>RL</td>\n      <td>NaN</td>\n      <td>NaN</td>\n      <td>Pave</td>\n      <td>Grvl</td>\n      <td>Reg</td>\n      <td>Lvl</td>\n      <td>...</td>\n      <td>NaN</td>\n      <td>Ex</td>\n      <td>MnPrv</td>\n      <td>Shed</td>\n      <td>NaN</td>\n      <td>NaN</td>\n      <td>NaN</td>\n      <td>WD</td>\n      <td>Normal</td>\n      <td>NaN</td>\n    </tr>\n    <tr>\n      <th>freq</th>\n      <td>NaN</td>\n      <td>NaN</td>\n      <td>NaN</td>\n      <td>2273</td>\n      <td>NaN</td>\n      <td>NaN</td>\n      <td>2918</td>\n      <td>120</td>\n      <td>1859</td>\n      <td>2633</td>\n      <td>...</td>\n      <td>NaN</td>\n      <td>4</td>\n      <td>330</td>\n      <td>95</td>\n      <td>NaN</td>\n      <td>NaN</td>\n      <td>NaN</td>\n      <td>2536</td>\n      <td>2413</td>\n      <td>NaN</td>\n    </tr>\n    <tr>\n      <th>mean</th>\n      <td>1465.50000</td>\n      <td>7.144645e+08</td>\n      <td>57.387372</td>\n      <td>NaN</td>\n      <td>69.224590</td>\n      <td>10147.921843</td>\n      <td>NaN</td>\n      <td>NaN</td>\n      <td>NaN</td>\n      <td>NaN</td>\n      <td>...</td>\n      <td>2.243345</td>\n      <td>NaN</td>\n      <td>NaN</td>\n      <td>NaN</td>\n      <td>50.635154</td>\n      <td>6.216041</td>\n      <td>2007.790444</td>\n      <td>NaN</td>\n      <td>NaN</td>\n      <td>180796.060068</td>\n    </tr>\n    <tr>\n      <th>std</th>\n      <td>845.96247</td>\n      <td>1.887308e+08</td>\n      <td>42.638025</td>\n      <td>NaN</td>\n      <td>23.365335</td>\n      <td>7880.017759</td>\n      <td>NaN</td>\n      <td>NaN</td>\n      <td>NaN</td>\n      <td>NaN</td>\n      <td>...</td>\n      <td>35.597181</td>\n      <td>NaN</td>\n      <td>NaN</td>\n      <td>NaN</td>\n      <td>566.344288</td>\n      <td>2.714492</td>\n      <td>1.316613</td>\n      <td>NaN</td>\n      <td>NaN</td>\n      <td>79886.692357</td>\n    </tr>\n    <tr>\n      <th>min</th>\n      <td>1.00000</td>\n      <td>5.263011e+08</td>\n      <td>20.000000</td>\n      <td>NaN</td>\n      <td>21.000000</td>\n      <td>1300.000000</td>\n      <td>NaN</td>\n      <td>NaN</td>\n      <td>NaN</td>\n      <td>NaN</td>\n      <td>...</td>\n      <td>0.000000</td>\n      <td>NaN</td>\n      <td>NaN</td>\n      <td>NaN</td>\n      <td>0.000000</td>\n      <td>1.000000</td>\n      <td>2006.000000</td>\n      <td>NaN</td>\n      <td>NaN</td>\n      <td>12789.000000</td>\n    </tr>\n    <tr>\n      <th>25%</th>\n      <td>733.25000</td>\n      <td>5.284770e+08</td>\n      <td>20.000000</td>\n      <td>NaN</td>\n      <td>58.000000</td>\n      <td>7440.250000</td>\n      <td>NaN</td>\n      <td>NaN</td>\n      <td>NaN</td>\n      <td>NaN</td>\n      <td>...</td>\n      <td>0.000000</td>\n      <td>NaN</td>\n      <td>NaN</td>\n      <td>NaN</td>\n      <td>0.000000</td>\n      <td>4.000000</td>\n      <td>2007.000000</td>\n      <td>NaN</td>\n      <td>NaN</td>\n      <td>129500.000000</td>\n    </tr>\n    <tr>\n      <th>50%</th>\n      <td>1465.50000</td>\n      <td>5.354536e+08</td>\n      <td>50.000000</td>\n      <td>NaN</td>\n      <td>68.000000</td>\n      <td>9436.500000</td>\n      <td>NaN</td>\n      <td>NaN</td>\n      <td>NaN</td>\n      <td>NaN</td>\n      <td>...</td>\n      <td>0.000000</td>\n      <td>NaN</td>\n      <td>NaN</td>\n      <td>NaN</td>\n      <td>0.000000</td>\n      <td>6.000000</td>\n      <td>2008.000000</td>\n      <td>NaN</td>\n      <td>NaN</td>\n      <td>160000.000000</td>\n    </tr>\n    <tr>\n      <th>75%</th>\n      <td>2197.75000</td>\n      <td>9.071811e+08</td>\n      <td>70.000000</td>\n      <td>NaN</td>\n      <td>80.000000</td>\n      <td>11555.250000</td>\n      <td>NaN</td>\n      <td>NaN</td>\n      <td>NaN</td>\n      <td>NaN</td>\n      <td>...</td>\n      <td>0.000000</td>\n      <td>NaN</td>\n      <td>NaN</td>\n      <td>NaN</td>\n      <td>0.000000</td>\n      <td>8.000000</td>\n      <td>2009.000000</td>\n      <td>NaN</td>\n      <td>NaN</td>\n      <td>213500.000000</td>\n    </tr>\n    <tr>\n      <th>max</th>\n      <td>2930.00000</td>\n      <td>1.007100e+09</td>\n      <td>190.000000</td>\n      <td>NaN</td>\n      <td>313.000000</td>\n      <td>215245.000000</td>\n      <td>NaN</td>\n      <td>NaN</td>\n      <td>NaN</td>\n      <td>NaN</td>\n      <td>...</td>\n      <td>800.000000</td>\n      <td>NaN</td>\n      <td>NaN</td>\n      <td>NaN</td>\n      <td>17000.000000</td>\n      <td>12.000000</td>\n      <td>2010.000000</td>\n      <td>NaN</td>\n      <td>NaN</td>\n      <td>755000.000000</td>\n    </tr>\n  </tbody>\n</table>\n<p>11 rows × 82 columns</p>\n</div>"
     },
     "execution_count": 9,
     "metadata": {},
     "output_type": "execute_result"
    }
   ]
  },
  {
   "cell_type": "markdown",
   "metadata": {
    "id": "gfL95xL4WpCX"
   },
   "source": [
    "describe формирует статистику по числовым данным и номинальной шкале.\n",
    "- count - количество не NAN/нулевых наблюдений.\n",
    "- max/min - максимум/минимум значений в объекте.\n",
    "- mean - среднее арифметическое значение.\n",
    "- std - стандартное отклонение наблюдений.\n",
    "- unique - количество уникальных значений.\n",
    "- top - самое распространенное значение.\n",
    "- freq - сколько раз в наборе данных встречается top.\n",
    "\n",
    "Кванти́ль в математической статистике — значение, которое заданная случайная величина не превышает с фиксированной вероятностью. Для определения квантили, выборка упорядочивается по возрастанию.\n",
    "- 0,25-квантиль называется первым (или нижним) кварти́лем (от лат. quarta — четверть);\n",
    "- 0,5-квантиль называется медианой (от лат. mediāna — середина) или вторым кварти́лем;\n",
    "- 0,75-квантиль называется третьим (или верхним) кварти́лем.\n",
    "- Интеркварти́льный размах (Interquartile range) - разность между третьим и первым квартилями."
   ]
  },
  {
   "cell_type": "markdown",
   "metadata": {
    "id": "vGoFyn91WpCZ"
   },
   "source": [
    "АНАЛИЗ ГИСТОГРАММ"
   ]
  },
  {
   "cell_type": "code",
   "metadata": {
    "id": "7rUWHS3EWpDJ"
   },
   "source": [
    "import matplotlib\n",
    "import matplotlib.pyplot as plt\n",
    "\n",
    "# выбор темы картинок на Ваш вкус. Необязательная строчка.\n",
    "matplotlib.style.use('ggplot')\n",
    "# Эта строчка нужна для того, чтобы картинки отображались в ячейках\n",
    "%matplotlib inline\n",
    "#  https://matplotlib.org/api/_as_gen/matplotlib.pyplot.hist.html"
   ],
   "execution_count": null,
   "outputs": []
  },
  {
   "cell_type": "code",
   "metadata": {
    "id": "giTL8gEIWpDY"
   },
   "source": [
    "#Построим гистограмму\n",
    "AH['SalePrice'].hist();"
   ],
   "execution_count": 13,
   "outputs": [
    {
     "data": {
      "text/plain": "<Figure size 432x288 with 1 Axes>",
      "image/png": "[encoded data removed]"
     },
     "metadata": {
      "needs_background": "light"
     },
     "output_type": "display_data"
    }
   ]
  },
  {
   "cell_type": "code",
   "metadata": {
    "id": "RSVatCFmWpEe"
   },
   "source": [
    "AH['SalePrice'].hist();"
   ],
   "execution_count": 12,
   "outputs": [
    {
     "data": {
      "text/plain": "<Figure size 432x288 with 1 Axes>",
      "image/png": "[encoded data removed]"
     },
     "metadata": {
      "needs_background": "light"
     },
     "output_type": "display_data"
    }
   ]
  },
  {
   "cell_type": "markdown",
   "metadata": {
    "id": "oTS9jY54WpEu"
   },
   "source": [
    "Применим при построении гистограмы density для построения вероятностной гистограммы.\n",
    "density - если True первым элементом возвращаемого кортежа будет число, нормализованное для формирования плотности вероятности, т.е. площадь под гистограммой будет равна 1. \n",
    "Зачем добиваться площади под гистограммой равной 1?\n",
    "- Если мы будем сравнивать два набора данных по какому либо параметру, а именно будем сравнивать две гистограммы. И если в одной выборке 10000 значений а в другой 20000 значений, то одна из гистограмм будет выше просто за счет различия количества наблюдений в наборах данных. Следовательно необходимо их нормировать, что и делает density.\n",
    "- Это нам дает вид плотности распределения вероятности, то есть с ростом числа наблюдений гистограмма приближается к плотности распределения вероятности."
   ]
  },
  {
   "cell_type": "code",
   "metadata": {
    "id": "JRQZbc0vWpEw"
   },
   "source": [
    "AH['SalePrice'].hist(bins=60, density=1);"
   ],
   "execution_count": null,
   "outputs": []
  },
  {
   "cell_type": "markdown",
   "metadata": {
    "id": "JPARJ0HsWpE6"
   },
   "source": [
    "При постороении гистограммы необходимо поварьировать параметр bins, так как в зависимости от него может меняться визуальное восприятие гистограммы, например, может меняться число выбросов."
   ]
  },
  {
   "cell_type": "code",
   "metadata": {
    "id": "wEJPdfCbWpF1"
   },
   "source": [
    "print(plt.style.available)\n",
    "# https://matplotlib.org/gallery/style_sheets/style_sheets_reference.html"
   ],
   "execution_count": null,
   "outputs": []
  },
  {
   "cell_type": "code",
   "metadata": {
    "id": "voLTvx4UWpGF"
   },
   "source": [
    "matplotlib.style.use('tableau-colorblind10')\n",
    "AH['SalePrice'].hist(bins=60, density=1);"
   ],
   "execution_count": null,
   "outputs": []
  },
  {
   "cell_type": "code",
   "metadata": {
    "id": "cp6LOqm8WpGX"
   },
   "source": [
    "#Логарифмирвоание может приблизить вид гистограммы к нормальному распределению \n",
    "np.log(AH['SalePrice']).hist(bins=45, density=1);"
   ],
   "execution_count": null,
   "outputs": []
  },
  {
   "cell_type": "markdown",
   "metadata": {
    "id": "9rtx_qSnWpHZ"
   },
   "source": [
    "ЯДЕРНАЯ ОЦЕНКА ПЛОТНОСТИ РАСПРЕДЕЛЕНИЯ"
   ]
  },
  {
   "cell_type": "code",
   "metadata": {
    "id": "Z8R-4HDSWpHc"
   },
   "source": [
    "import seaborn as sns"
   ],
   "execution_count": null,
   "outputs": []
  },
  {
   "cell_type": "code",
   "metadata": {
    "id": "JI5tbpnpWpHs"
   },
   "source": [
    "plt.figure()\n",
    "sns.distplot(AH['SalePrice'],  ax=plt.gca(), bins=60)"
   ],
   "execution_count": null,
   "outputs": []
  },
  {
   "cell_type": "markdown",
   "metadata": {
    "id": "BpTgD6k_WpH7"
   },
   "source": [
    "Линия на гистограмме представляет собой ядерную оценку плотности распределения, а не плотность распределения.\n",
    "Ядерная оценка ничего нового не вносит, грубо говоря просто сглаживает гистограмму."
   ]
  },
  {
   "cell_type": "code",
   "metadata": {
    "id": "m-XAFMgUWpH-"
   },
   "source": [
    "#Вывод нескольких гистограмм на график. Сформируем группы по типу района застройки\n",
    "# По идее, вызов должен быть такой: df.groupby('Status')['Length'].hist(alpha=0.6)\n",
    "# Но из-за бага https://github.com/pandas-dev/pandas/issues/10756\n",
    "# приходится делать дополнительный вызов plot\n",
    "AH.groupby('MS Zoning')['SalePrice'].plot.hist(alpha=0.6)\n",
    "# groupby группировка данных по заданному столбцу\n",
    "#Добавляем легенду\n",
    "plt.legend();"
   ],
   "execution_count": null,
   "outputs": []
  },
  {
   "cell_type": "markdown",
   "metadata": {
    "id": "5dKzibPcWpI4"
   },
   "source": [
    "Почему не отражаются все группы районов? Дело в том, что остальные районы представлены маленьки выборками и чтобы можно было их сравнить между собой необходимо нормирвоать данные"
   ]
  },
  {
   "cell_type": "code",
   "metadata": {
    "id": "TjXXvP8uWpI7"
   },
   "source": [
    "AH.groupby('MS Zoning')['SalePrice'].plot.hist(density=1, alpha=0.6)\n",
    "plt.legend();"
   ],
   "execution_count": null,
   "outputs": []
  },
  {
   "cell_type": "markdown",
   "metadata": {
    "id": "lE2mel43WpJV"
   },
   "source": [
    "Вывод. Одна гистограмма хорошо. Две тоже можно. Но когда гистограмм много, то они накладываются друг на друга и информативность падает. Таким образом, гистограммы не предназначены для сравнения совокупности показателей. Выходом служит построение ящиков с усами. Ящики с усами являются приближением гистограммы и могут потерять информативность в случае например бимодальной гистограммы. Поэтому, при сравнении малого числа выборок лучше строить гистограммы."
   ]
  },
  {
   "cell_type": "markdown",
   "metadata": {
    "id": "_oniPCF9WpJX"
   },
   "source": [
    "**ЯЩИКИ С УСАМИ ИЛИ ЯЩИКОВЫЕ ДИАГРАММЫ**\n",
    "\n",
    "![](https://drive.google.com/uc?export=view&id=11yIzfJba8FusO-6uA6ghWj619MVcI-gq)"
   ]
  },
  {
   "cell_type": "code",
   "metadata": {
    "id": "Et_GqP9KWpJb"
   },
   "source": [
    "ax = AH.boxplot(column='SalePrice', by='MS Zoning')\n",
    "# Хак для того, чтобы исправить наезжающие заголовки графика\n",
    "ax.get_figure().suptitle('')"
   ],
   "execution_count": null,
   "outputs": []
  },
  {
   "cell_type": "code",
   "metadata": {
    "id": "jJ2dAMTdWpKy"
   },
   "source": [
    "plt.figure()\n",
    "ax = sns.boxplot(x=AH[\"SalePrice\"])"
   ],
   "execution_count": null,
   "outputs": []
  },
  {
   "cell_type": "code",
   "metadata": {
    "id": "0eukrc1nWpK9"
   },
   "source": [
    "plt.figure()\n",
    "ax = sns.boxplot(x=\"MS Zoning\", y=\"SalePrice\", data=AH)"
   ],
   "execution_count": null,
   "outputs": []
  },
  {
   "cell_type": "markdown",
   "metadata": {
    "id": "O3UNSz_jsuwh"
   },
   "source": [
    "**Ящик с усами относительно нормального распределения**\n",
    "\n",
    "![](https://drive.google.com/uc?export=view&id=1rRshJoCW873xQmjl6Al_CPyCsw1oO6Fi)"
   ]
  },
  {
   "cell_type": "markdown",
   "metadata": {
    "id": "_VI73vQsWpLR"
   },
   "source": [
    "Построение ящиков с усами.\n",
    "- Нижняя и верхняя граница ящика это первая и третья квартили.\n",
    "- Линия внутри ящика соответствует второй квартили (медиане).\n",
    "- Ус тянется до того, до чего ближе (либо до максимума, либо да максимум умноженный на полторы длины ящика).\n",
    "- Все, что дальше уса обозначается кружками (выбросы). Кружки рисуются до максимум умноженного на три длины ящика.\n",
    "- После трех длин ящика рисуются звездочки (экстремальные значения).\n",
    "- Последний кружок или звездочка соответствуют максимуму.\n",
    "- Аналогично ус строится по другую сторону ящика.\n",
    "- boxplot рисует все, что выходит за пределы усов только кружками.\n",
    "<img src=\"images/boxplot.png\"/>"
   ]
  },
  {
   "cell_type": "code",
   "metadata": {
    "id": "Wxvn7H1wWpLS"
   },
   "source": [
    "print (AH['MS Zoning'].value_counts())"
   ],
   "execution_count": null,
   "outputs": []
  },
  {
   "cell_type": "markdown",
   "metadata": {
    "id": "39kEGXXAWpL0"
   },
   "source": [
    "Построенные ящики с усами показывают, что самые дешевые дома в сельской местности (Agr). Однако, не стоит этому сильно доверять, так как из ящика с усами не понятно каким числом наблюдений характеризуется выборка. После подсчета количества наблюдений для каждой выборки видно, что дома сельской местности представлены всего 2 примерами, что не является репрезентативной выборкой. Аналогично имеются и другие выборки, представленные малым числом наблюдений.\n",
    "Таким образом, получается что параметр окружения является информативным, так как в зависимости от окружения меняется стоимость дома. Однако, как быть с неинформативностью некоторых выборок, представленных всего двумя наблюдениями."
   ]
  },
  {
   "cell_type": "markdown",
   "metadata": {
    "id": "HKcARUx-WpL1"
   },
   "source": [
    "**ТИПИЧНОЕ ЗНАЧЕНИЕ ВЫБОРКИ**\n",
    "\n",
    "Среднее или медиана.\n",
    "Пример, средний чек"
   ]
  },
  {
   "cell_type": "markdown",
   "metadata": {
    "id": "237YZOX9WpL3"
   },
   "source": [
    "Проведем анализ населения городов России в 1959 году. Данные получены по результатам переписи населения.\n",
    "Описание данных. Население в тысячах человек. В выборку попали населенные пункты, которые считаются городами России в настоящее время, даже если в 1959 году они еще не считались городами."
   ]
  },
  {
   "cell_type": "code",
   "metadata": {
    "id": "4S0u14vkWpL4"
   },
   "source": [
    "# os.chdir(\"/content/drive/My Drive/BSU/DataSet/DescriptiveStatistics\")"
   ],
   "execution_count": null,
   "outputs": []
  },
  {
   "cell_type": "code",
   "metadata": {
    "id": "_UIQF_PbWpMU",
    "colab": {
     "base_uri": "https://localhost:8080/",
     "height": 227
    },
    "executionInfo": {
     "status": "ok",
     "timestamp": 1613377757471,
     "user_tz": -180,
     "elapsed": 1820,
     "user": {
      "displayName": "Рустам Асадуллаев",
      "photoUrl": "",
      "userId": "00028302062075019920"
     }
    },
    "outputId": "01ed68f1-b976-4443-fa44-945a5645f9b5"
   },
   "source": [
    "town = pd.read_csv('town_1959.csv', encoding='cp1251', index_col=u'номер')\n",
    "town.head()"
   ],
   "execution_count": null,
   "outputs": [
    {
     "output_type": "execute_result",
     "data": {
      "text/html": [
       "<div>\n",
       "<style scoped>\n",
       "    .dataframe tbody tr th:only-of-type {\n",
       "        vertical-align: middle;\n",
       "    }\n",
       "\n",
       "    .dataframe tbody tr th {\n",
       "        vertical-align: top;\n",
       "    }\n",
       "\n",
       "    .dataframe thead th {\n",
       "        text-align: right;\n",
       "    }\n",
       "</style>\n",
       "<table border=\"1\" class=\"dataframe\">\n",
       "  <thead>\n",
       "    <tr style=\"text-align: right;\">\n",
       "      <th></th>\n",
       "      <th>город</th>\n",
       "      <th>население</th>\n",
       "    </tr>\n",
       "    <tr>\n",
       "      <th>номер</th>\n",
       "      <th></th>\n",
       "      <th></th>\n",
       "    </tr>\n",
       "  </thead>\n",
       "  <tbody>\n",
       "    <tr>\n",
       "      <th>1</th>\n",
       "      <td>Москва</td>\n",
       "      <td>5046.0</td>\n",
       "    </tr>\n",
       "    <tr>\n",
       "      <th>2</th>\n",
       "      <td>Санкт-Петербург</td>\n",
       "      <td>3003.0</td>\n",
       "    </tr>\n",
       "    <tr>\n",
       "      <th>3</th>\n",
       "      <td>Нижний_Новгород</td>\n",
       "      <td>941.0</td>\n",
       "    </tr>\n",
       "    <tr>\n",
       "      <th>4</th>\n",
       "      <td>Новосибирск</td>\n",
       "      <td>885.0</td>\n",
       "    </tr>\n",
       "    <tr>\n",
       "      <th>5</th>\n",
       "      <td>Самара</td>\n",
       "      <td>806.0</td>\n",
       "    </tr>\n",
       "  </tbody>\n",
       "</table>\n",
       "</div>"
      ],
      "text/plain": [
       "                 город  население\n",
       "номер                            \n",
       "1               Москва     5046.0\n",
       "2      Санкт-Петербург     3003.0\n",
       "3      Нижний_Новгород      941.0\n",
       "4          Новосибирск      885.0\n",
       "5               Самара      806.0"
      ]
     },
     "metadata": {
      "tags": []
     },
     "execution_count": 4
    }
   ]
  },
  {
   "cell_type": "code",
   "metadata": {
    "colab": {
     "base_uri": "https://localhost:8080/"
    },
    "id": "O7vxXARPzu_q",
    "executionInfo": {
     "status": "ok",
     "timestamp": 1613378528245,
     "user_tz": -180,
     "elapsed": 584,
     "user": {
      "displayName": "Рустам Асадуллаев",
      "photoUrl": "",
      "userId": "00028302062075019920"
     }
    },
    "outputId": "a73c3eae-79dd-427e-eb59-ee816af96c62"
   },
   "source": [
    "import csv\n",
    "t = csv.reader('town_1959.csv', delimiter = ',')\n",
    "t\n"
   ],
   "execution_count": null,
   "outputs": [
    {
     "output_type": "execute_result",
     "data": {
      "text/plain": [
       "<_csv.reader at 0x7f1ae03e4048>"
      ]
     },
     "metadata": {
      "tags": []
     },
     "execution_count": 11
    }
   ]
  },
  {
   "cell_type": "code",
   "metadata": {
    "id": "NjL3ZezHWpMi",
    "colab": {
     "base_uri": "https://localhost:8080/"
    },
    "executionInfo": {
     "status": "ok",
     "timestamp": 1605540983308,
     "user_tz": -180,
     "elapsed": 812,
     "user": {
      "displayName": "Рустам Асадуллаев",
      "photoUrl": "",
      "userId": "00028302062075019920"
     }
    },
    "outputId": "f5df2b43-1733-4058-a842-ba952e778816"
   },
   "source": [
    "print(town)\n",
    "print(town.shape)"
   ],
   "execution_count": null,
   "outputs": [
    {
     "output_type": "stream",
     "text": [
      "                 город  население\n",
      "номер                            \n",
      "1               Москва     5046.0\n",
      "2      Санкт-Петербург     3003.0\n",
      "3      Нижний_Новгород      941.0\n",
      "4          Новосибирск      885.0\n",
      "5               Самара      806.0\n",
      "...                ...        ...\n",
      "1 000      Усть-Илимск        0.5\n",
      "1 001            Ясный        0.5\n",
      "1 002           Мегион        0.4\n",
      "1 003            Надым        0.3\n",
      "1 004           Вуктыл        0.1\n",
      "\n",
      "[1004 rows x 2 columns]\n",
      "(1004, 2)\n"
     ],
     "name": "stdout"
    }
   ]
  },
  {
   "cell_type": "code",
   "metadata": {
    "id": "7AQjmiNVWpNa",
    "colab": {
     "base_uri": "https://localhost:8080/",
     "height": 297
    },
    "executionInfo": {
     "status": "ok",
     "timestamp": 1605541147474,
     "user_tz": -180,
     "elapsed": 888,
     "user": {
      "displayName": "Рустам Асадуллаев",
      "photoUrl": "",
      "userId": "00028302062075019920"
     }
    },
    "outputId": "775e57ec-1821-4f21-cad6-afa766436022"
   },
   "source": [
    "# описательные статистики, характеризующие выборку\n",
    "town.describe()"
   ],
   "execution_count": null,
   "outputs": [
    {
     "output_type": "execute_result",
     "data": {
      "text/html": [
       "<div>\n",
       "<style scoped>\n",
       "    .dataframe tbody tr th:only-of-type {\n",
       "        vertical-align: middle;\n",
       "    }\n",
       "\n",
       "    .dataframe tbody tr th {\n",
       "        vertical-align: top;\n",
       "    }\n",
       "\n",
       "    .dataframe thead th {\n",
       "        text-align: right;\n",
       "    }\n",
       "</style>\n",
       "<table border=\"1\" class=\"dataframe\">\n",
       "  <thead>\n",
       "    <tr style=\"text-align: right;\">\n",
       "      <th></th>\n",
       "      <th>население</th>\n",
       "    </tr>\n",
       "  </thead>\n",
       "  <tbody>\n",
       "    <tr>\n",
       "      <th>count</th>\n",
       "      <td>1004.000000</td>\n",
       "    </tr>\n",
       "    <tr>\n",
       "      <th>mean</th>\n",
       "      <td>52.925199</td>\n",
       "    </tr>\n",
       "    <tr>\n",
       "      <th>std</th>\n",
       "      <td>204.885662</td>\n",
       "    </tr>\n",
       "    <tr>\n",
       "      <th>min</th>\n",
       "      <td>0.100000</td>\n",
       "    </tr>\n",
       "    <tr>\n",
       "      <th>25%</th>\n",
       "      <td>10.700000</td>\n",
       "    </tr>\n",
       "    <tr>\n",
       "      <th>50%</th>\n",
       "      <td>19.250000</td>\n",
       "    </tr>\n",
       "    <tr>\n",
       "      <th>75%</th>\n",
       "      <td>37.975000</td>\n",
       "    </tr>\n",
       "    <tr>\n",
       "      <th>max</th>\n",
       "      <td>5046.000000</td>\n",
       "    </tr>\n",
       "  </tbody>\n",
       "</table>\n",
       "</div>"
      ],
      "text/plain": [
       "         население\n",
       "count  1004.000000\n",
       "mean     52.925199\n",
       "std     204.885662\n",
       "min       0.100000\n",
       "25%      10.700000\n",
       "50%      19.250000\n",
       "75%      37.975000\n",
       "max    5046.000000"
      ]
     },
     "metadata": {
      "tags": []
     },
     "execution_count": 12
    }
   ]
  },
  {
   "cell_type": "code",
   "metadata": {
    "id": "pNiPcENLWpOe",
    "colab": {
     "base_uri": "https://localhost:8080/"
    },
    "executionInfo": {
     "status": "ok",
     "timestamp": 1605541250386,
     "user_tz": -180,
     "elapsed": 845,
     "user": {
      "displayName": "Рустам Асадуллаев",
      "photoUrl": "",
      "userId": "00028302062075019920"
     }
    },
    "outputId": "e894d5c7-790f-49b4-e002-fd0b55195900"
   },
   "source": [
    "# Наблюдение 1. Среднее арифметическое больше 3 квартили!\n",
    "# Уточним.\n",
    "\n",
    "len(town[town['население'] < 52.925199])/len(town)*100"
   ],
   "execution_count": null,
   "outputs": [
    {
     "output_type": "execute_result",
     "data": {
      "text/plain": [
       "82.37051792828686"
      ]
     },
     "metadata": {
      "tags": []
     },
     "execution_count": 13
    }
   ]
  },
  {
   "cell_type": "code",
   "metadata": {
    "id": "oT_VhtjdWpPA"
   },
   "source": [
    "# Наблюдение 2. Если в качестве населения типичного города\n",
    "# России взять среднее арифметическое, то 82% городов России\n",
    "# имеет население меньше, чем население типичного города.\n",
    "# Что вызывает дискомфорт. Такое наблюдение не воспринимается как типичное..."
   ],
   "execution_count": null,
   "outputs": []
  },
  {
   "cell_type": "code",
   "metadata": {
    "id": "ccSLszaDWpPP",
    "colab": {
     "base_uri": "https://localhost:8080/",
     "height": 282
    },
    "executionInfo": {
     "status": "ok",
     "timestamp": 1605541316123,
     "user_tz": -180,
     "elapsed": 1209,
     "user": {
      "displayName": "Рустам Асадуллаев",
      "photoUrl": "",
      "userId": "00028302062075019920"
     }
    },
    "outputId": "daad0d6d-5bc9-46ab-ac8b-40a9b15f5ff0"
   },
   "source": [
    "town['население'].hist()"
   ],
   "execution_count": null,
   "outputs": [
    {
     "output_type": "execute_result",
     "data": {
      "text/plain": [
       "<matplotlib.axes._subplots.AxesSubplot at 0x7f554cabe2b0>"
      ]
     },
     "metadata": {
      "tags": []
     },
     "execution_count": 14
    },
    {
     "output_type": "display_data",
     "data": {
      "image/png": "[encoded data removed]",
      "text/plain": [
       "<Figure size 432x288 with 1 Axes>"
      ]
     },
     "metadata": {
      "tags": [],
      "needs_background": "light"
     }
    }
   ]
  },
  {
   "cell_type": "code",
   "metadata": {
    "id": "V0nVNv9_WpPi",
    "colab": {
     "base_uri": "https://localhost:8080/",
     "height": 297
    },
    "executionInfo": {
     "status": "ok",
     "timestamp": 1605541417323,
     "user_tz": -180,
     "elapsed": 660,
     "user": {
      "displayName": "Рустам Асадуллаев",
      "photoUrl": "",
      "userId": "00028302062075019920"
     }
    },
    "outputId": "e7b0f579-56d5-4d7d-d4ea-a2b27849d5ec"
   },
   "source": [
    "#  удалим выбросы Москву и Питер\n",
    "\n",
    "town_2 = town.iloc[2:1004,:]\n",
    "town_2.describe()"
   ],
   "execution_count": null,
   "outputs": [
    {
     "output_type": "execute_result",
     "data": {
      "text/html": [
       "<div>\n",
       "<style scoped>\n",
       "    .dataframe tbody tr th:only-of-type {\n",
       "        vertical-align: middle;\n",
       "    }\n",
       "\n",
       "    .dataframe tbody tr th {\n",
       "        vertical-align: top;\n",
       "    }\n",
       "\n",
       "    .dataframe thead th {\n",
       "        text-align: right;\n",
       "    }\n",
       "</style>\n",
       "<table border=\"1\" class=\"dataframe\">\n",
       "  <thead>\n",
       "    <tr style=\"text-align: right;\">\n",
       "      <th></th>\n",
       "      <th>население</th>\n",
       "    </tr>\n",
       "  </thead>\n",
       "  <tbody>\n",
       "    <tr>\n",
       "      <th>count</th>\n",
       "      <td>1002.000000</td>\n",
       "    </tr>\n",
       "    <tr>\n",
       "      <th>mean</th>\n",
       "      <td>44.997904</td>\n",
       "    </tr>\n",
       "    <tr>\n",
       "      <th>std</th>\n",
       "      <td>91.645867</td>\n",
       "    </tr>\n",
       "    <tr>\n",
       "      <th>min</th>\n",
       "      <td>0.100000</td>\n",
       "    </tr>\n",
       "    <tr>\n",
       "      <th>25%</th>\n",
       "      <td>10.700000</td>\n",
       "    </tr>\n",
       "    <tr>\n",
       "      <th>50%</th>\n",
       "      <td>19.150000</td>\n",
       "    </tr>\n",
       "    <tr>\n",
       "      <th>75%</th>\n",
       "      <td>37.550000</td>\n",
       "    </tr>\n",
       "    <tr>\n",
       "      <th>max</th>\n",
       "      <td>941.000000</td>\n",
       "    </tr>\n",
       "  </tbody>\n",
       "</table>\n",
       "</div>"
      ],
      "text/plain": [
       "         население\n",
       "count  1002.000000\n",
       "mean     44.997904\n",
       "std      91.645867\n",
       "min       0.100000\n",
       "25%      10.700000\n",
       "50%      19.150000\n",
       "75%      37.550000\n",
       "max     941.000000"
      ]
     },
     "metadata": {
      "tags": []
     },
     "execution_count": 16
    }
   ]
  },
  {
   "cell_type": "code",
   "metadata": {
    "id": "RvHDAYCFWpQN",
    "colab": {
     "base_uri": "https://localhost:8080/"
    },
    "executionInfo": {
     "status": "ok",
     "timestamp": 1605541445034,
     "user_tz": -180,
     "elapsed": 653,
     "user": {
      "displayName": "Рустам Асадуллаев",
      "photoUrl": "",
      "userId": "00028302062075019920"
     }
    },
    "outputId": "52dedb12-77cd-4fa0-f4dc-b4370901607b"
   },
   "source": [
    "len(town_2[town_2['население'] < 44.997904])/len(town_2)*100"
   ],
   "execution_count": null,
   "outputs": [
    {
     "output_type": "execute_result",
     "data": {
      "text/plain": [
       "78.84231536926147"
      ]
     },
     "metadata": {
      "tags": []
     },
     "execution_count": 17
    }
   ]
  },
  {
   "cell_type": "code",
   "metadata": {
    "id": "cYwGv_4zWpQU",
    "colab": {
     "base_uri": "https://localhost:8080/",
     "height": 282
    },
    "executionInfo": {
     "status": "ok",
     "timestamp": 1605541473911,
     "user_tz": -180,
     "elapsed": 1092,
     "user": {
      "displayName": "Рустам Асадуллаев",
      "photoUrl": "",
      "userId": "00028302062075019920"
     }
    },
    "outputId": "1b0bd4db-f4e9-45b6-ed3f-849d2bcc0f2b"
   },
   "source": [
    "town_2['население'].hist()"
   ],
   "execution_count": null,
   "outputs": [
    {
     "output_type": "execute_result",
     "data": {
      "text/plain": [
       "<matplotlib.axes._subplots.AxesSubplot at 0x7f554c9f8898>"
      ]
     },
     "metadata": {
      "tags": []
     },
     "execution_count": 18
    },
    {
     "output_type": "display_data",
     "data": {
      "image/png": "[encoded data removed]",
      "text/plain": [
       "<Figure size 432x288 with 1 Axes>"
      ]
     },
     "metadata": {
      "tags": [],
      "needs_background": "light"
     }
    }
   ]
  },
  {
   "cell_type": "markdown",
   "metadata": {
    "id": "1n6IDBo3WpQg"
   },
   "source": [
    "Как видно для данной выборки арифметическое среднее не описывает типичное среднее выборки. Как до удаления, так и после удаления двух выбросов mean больше третей квартили. Посмотрим на медиану. Медиана соответствует второй квартили. В исходных данных медиана составляла 19.25. После удаления выбросов медиана составила 19.15, то есть почти не изменилась.\n",
    "Выводы: среднее арифметическое не устойчиво к выбросам и в этом случае лучше использовать медиану."
   ]
  },
  {
   "cell_type": "code",
   "metadata": {
    "id": "hQkdtGVYWpQk",
    "colab": {
     "base_uri": "https://localhost:8080/",
     "height": 282
    },
    "executionInfo": {
     "status": "ok",
     "timestamp": 1605541641145,
     "user_tz": -180,
     "elapsed": 767,
     "user": {
      "displayName": "Рустам Асадуллаев",
      "photoUrl": "",
      "userId": "00028302062075019920"
     }
    },
    "outputId": "3e89d3cd-a41f-4721-d184-61b1742d0e54"
   },
   "source": [
    "# получим логнормальное распределение, для которого уже и среднее арифметическое и медиана будут близкими по значению\n",
    "x = np.log10(town_2['население'])\n",
    "pd.Series(x).hist()"
   ],
   "execution_count": null,
   "outputs": [
    {
     "output_type": "execute_result",
     "data": {
      "text/plain": [
       "<matplotlib.axes._subplots.AxesSubplot at 0x7f554c3b3d68>"
      ]
     },
     "metadata": {
      "tags": []
     },
     "execution_count": 21
    },
    {
     "output_type": "display_data",
     "data": {
      "image/png": "[encoded data removed]",
      "text/plain": [
       "<Figure size 432x288 with 1 Axes>"
      ]
     },
     "metadata": {
      "tags": [],
      "needs_background": "light"
     }
    }
   ]
  },
  {
   "cell_type": "code",
   "metadata": {
    "id": "VeUMibJiWpRL",
    "colab": {
     "base_uri": "https://localhost:8080/",
     "height": 282
    },
    "executionInfo": {
     "status": "ok",
     "timestamp": 1605541647778,
     "user_tz": -180,
     "elapsed": 880,
     "user": {
      "displayName": "Рустам Асадуллаев",
      "photoUrl": "",
      "userId": "00028302062075019920"
     }
    },
    "outputId": "08a8c401-5da9-4f89-d2db-4fbc8be98606"
   },
   "source": [
    "pd.Series(x).hist(bins=45)"
   ],
   "execution_count": null,
   "outputs": [
    {
     "output_type": "execute_result",
     "data": {
      "text/plain": [
       "<matplotlib.axes._subplots.AxesSubplot at 0x7f554c2a28d0>"
      ]
     },
     "metadata": {
      "tags": []
     },
     "execution_count": 22
    },
    {
     "output_type": "display_data",
     "data": {
      "image/png": "[encoded data removed]",
      "text/plain": [
       "<Figure size 432x288 with 1 Axes>"
      ]
     },
     "metadata": {
      "tags": [],
      "needs_background": "light"
     }
    }
   ]
  },
  {
   "cell_type": "markdown",
   "metadata": {
    "id": "Ngng1PDkWpRc"
   },
   "source": [
    "На гистограмме видны выбросы.\n",
    "\n",
    "**Вывод**. Выбросы лучше убирать после логарифмирования, а не до.\n",
    "\n",
    " Если убирать выбросы сразу (Москва и Питер), то вылезут следующие города со значительным отклонением. После логарифмирования же мы видим практически все выбросы сразу.\n",
    "\n",
    "Другим кандидатом на роль типичного наблюдения выступает усеченное среднее, основанное на удалении выбросов. Для этого отбразывается 5% наблюдений: 2,5% слева(самые маленькие наблюдения), 2,5% справа (самые большие наблюдения). По оставшимся данным рассчитывается среднее арифметическое.\n",
    "\n",
    "Имееются и другие математические описания типичного наблюдения. "
   ]
  },
  {
   "cell_type": "markdown",
   "metadata": {
    "id": "YcdJl9LtWpRf"
   },
   "source": [
    "РАЗБРОС ДАННЫХ"
   ]
  },
  {
   "cell_type": "code",
   "metadata": {
    "id": "NN2a2eA1WpRg",
    "colab": {
     "base_uri": "https://localhost:8080/",
     "height": 297
    },
    "executionInfo": {
     "status": "ok",
     "timestamp": 1605541793895,
     "user_tz": -180,
     "elapsed": 719,
     "user": {
      "displayName": "Рустам Асадуллаев",
      "photoUrl": "",
      "userId": "00028302062075019920"
     }
    },
    "outputId": "9b96189e-706b-4b2b-8973-8fff8c8f49e2"
   },
   "source": [
    "town.describe()"
   ],
   "execution_count": null,
   "outputs": [
    {
     "output_type": "execute_result",
     "data": {
      "text/html": [
       "<div>\n",
       "<style scoped>\n",
       "    .dataframe tbody tr th:only-of-type {\n",
       "        vertical-align: middle;\n",
       "    }\n",
       "\n",
       "    .dataframe tbody tr th {\n",
       "        vertical-align: top;\n",
       "    }\n",
       "\n",
       "    .dataframe thead th {\n",
       "        text-align: right;\n",
       "    }\n",
       "</style>\n",
       "<table border=\"1\" class=\"dataframe\">\n",
       "  <thead>\n",
       "    <tr style=\"text-align: right;\">\n",
       "      <th></th>\n",
       "      <th>население</th>\n",
       "    </tr>\n",
       "  </thead>\n",
       "  <tbody>\n",
       "    <tr>\n",
       "      <th>count</th>\n",
       "      <td>1004.000000</td>\n",
       "    </tr>\n",
       "    <tr>\n",
       "      <th>mean</th>\n",
       "      <td>52.925199</td>\n",
       "    </tr>\n",
       "    <tr>\n",
       "      <th>std</th>\n",
       "      <td>204.885662</td>\n",
       "    </tr>\n",
       "    <tr>\n",
       "      <th>min</th>\n",
       "      <td>0.100000</td>\n",
       "    </tr>\n",
       "    <tr>\n",
       "      <th>25%</th>\n",
       "      <td>10.700000</td>\n",
       "    </tr>\n",
       "    <tr>\n",
       "      <th>50%</th>\n",
       "      <td>19.250000</td>\n",
       "    </tr>\n",
       "    <tr>\n",
       "      <th>75%</th>\n",
       "      <td>37.975000</td>\n",
       "    </tr>\n",
       "    <tr>\n",
       "      <th>max</th>\n",
       "      <td>5046.000000</td>\n",
       "    </tr>\n",
       "  </tbody>\n",
       "</table>\n",
       "</div>"
      ],
      "text/plain": [
       "         население\n",
       "count  1004.000000\n",
       "mean     52.925199\n",
       "std     204.885662\n",
       "min       0.100000\n",
       "25%      10.700000\n",
       "50%      19.250000\n",
       "75%      37.975000\n",
       "max    5046.000000"
      ]
     },
     "metadata": {
      "tags": []
     },
     "execution_count": 23
    }
   ]
  },
  {
   "cell_type": "code",
   "metadata": {
    "id": "zRdMr_J2WpRr",
    "colab": {
     "base_uri": "https://localhost:8080/"
    },
    "executionInfo": {
     "status": "ok",
     "timestamp": 1605541800426,
     "user_tz": -180,
     "elapsed": 948,
     "user": {
      "displayName": "Рустам Асадуллаев",
      "photoUrl": "",
      "userId": "00028302062075019920"
     }
    },
    "outputId": "af5dc164-8f08-4705-aefe-c00462a0deb3"
   },
   "source": [
    "#Разброс данных можно описать при помощи:\n",
    "#Размах можно определить как разность: max-min. Чувствителен к выбросам\n",
    "#Межквартильный размах: разность между значение Q3 квартили и Q1\n",
    "#Стандартное отклонение (корень из дисперсии)\n",
    "s=pd.Series(town['население'])\n",
    "\n",
    "print('Размах = ', s.max()-s.min())\n",
    "print('Межквартильный размах = ', s.quantile(0.75)-s.quantile(0.25))\n",
    "so=s.std\n",
    "print('Стандартное отклонение = ', s.std())\n"
   ],
   "execution_count": null,
   "outputs": [
    {
     "output_type": "stream",
     "text": [
      "Размах =  5045.9\n",
      "Межквартильный размах =  27.274999999999995\n",
      "Стандартное отклонение =  204.88566213577238\n"
     ],
     "name": "stdout"
    }
   ]
  },
  {
   "cell_type": "code",
   "metadata": {
    "id": "7MfM1WvaWpSA"
   },
   "source": [
    ""
   ],
   "execution_count": null,
   "outputs": []
  },
  {
   "cell_type": "markdown",
   "metadata": {
    "id": "eP4tyGas3z92"
   },
   "source": [
    "**Description of tips dataset.**\n",
    "\n",
    "На советы кулинарных серверов в ресторанах могут влиять многие факторы, в том числе характер ресторана, размер вечеринки и расположение столиков в ресторане. Менеджеры ресторанов должны знать, какие факторы имеют значение, когда они назначают столы для серверов питания. Ради морального духа персонала они обычно хотят избежать существа или появления несправедливого отношения к серверам, для которых чаевые (по крайней мере, в ресторанах в США) являются основным компонентом оплаты. В одном из ресторанов сервер питания записал следующие данные обо всех клиентах, которых они обслуживали в начале двух с половиной месяцев в начале 1990 года. Ресторан, расположенный в пригородном торговом центре, был частью национальной сети и обслуживал разнообразное меню. В соответствии с местным законодательством, ресторан предложил разместиться в секции для некурящих посетителям, которые просили об этом. Каждая запись включает день и время, и, вместе взятые, они показывают график работы сервера."
   ]
  },
  {
   "cell_type": "code",
   "metadata": {
    "id": "wmUCd75V37J0"
   },
   "source": [
    "# os.chdir(\"/content/drive/My Drive/BSU/DataSet/DescriptiveStatistics\")\n",
    "tips = pd.read_csv('tips.csv', encoding='cp1251') #index_col=u'номер'"
   ],
   "execution_count": null,
   "outputs": []
  },
  {
   "cell_type": "code",
   "metadata": {
    "id": "O-kcVakq4P3t",
    "colab": {
     "base_uri": "https://localhost:8080/",
     "height": 419
    },
    "executionInfo": {
     "status": "ok",
     "timestamp": 1605541924939,
     "user_tz": -180,
     "elapsed": 866,
     "user": {
      "displayName": "Рустам Асадуллаев",
      "photoUrl": "",
      "userId": "00028302062075019920"
     }
    },
    "outputId": "509a2379-75a6-4edf-d9e4-b1cb3ed0e7c6"
   },
   "source": [
    "tips"
   ],
   "execution_count": null,
   "outputs": [
    {
     "output_type": "execute_result",
     "data": {
      "text/html": [
       "<div>\n",
       "<style scoped>\n",
       "    .dataframe tbody tr th:only-of-type {\n",
       "        vertical-align: middle;\n",
       "    }\n",
       "\n",
       "    .dataframe tbody tr th {\n",
       "        vertical-align: top;\n",
       "    }\n",
       "\n",
       "    .dataframe thead th {\n",
       "        text-align: right;\n",
       "    }\n",
       "</style>\n",
       "<table border=\"1\" class=\"dataframe\">\n",
       "  <thead>\n",
       "    <tr style=\"text-align: right;\">\n",
       "      <th></th>\n",
       "      <th>Unnamed: 0</th>\n",
       "      <th>total_bill</th>\n",
       "      <th>tip</th>\n",
       "      <th>sex</th>\n",
       "      <th>smoker</th>\n",
       "      <th>day</th>\n",
       "      <th>time</th>\n",
       "      <th>size</th>\n",
       "    </tr>\n",
       "  </thead>\n",
       "  <tbody>\n",
       "    <tr>\n",
       "      <th>0</th>\n",
       "      <td>1</td>\n",
       "      <td>16.99</td>\n",
       "      <td>1.01</td>\n",
       "      <td>Female</td>\n",
       "      <td>No</td>\n",
       "      <td>Sun</td>\n",
       "      <td>Dinner</td>\n",
       "      <td>2</td>\n",
       "    </tr>\n",
       "    <tr>\n",
       "      <th>1</th>\n",
       "      <td>2</td>\n",
       "      <td>10.34</td>\n",
       "      <td>1.66</td>\n",
       "      <td>Male</td>\n",
       "      <td>No</td>\n",
       "      <td>Sun</td>\n",
       "      <td>Dinner</td>\n",
       "      <td>3</td>\n",
       "    </tr>\n",
       "    <tr>\n",
       "      <th>2</th>\n",
       "      <td>3</td>\n",
       "      <td>21.01</td>\n",
       "      <td>3.50</td>\n",
       "      <td>Male</td>\n",
       "      <td>No</td>\n",
       "      <td>Sun</td>\n",
       "      <td>Dinner</td>\n",
       "      <td>3</td>\n",
       "    </tr>\n",
       "    <tr>\n",
       "      <th>3</th>\n",
       "      <td>4</td>\n",
       "      <td>23.68</td>\n",
       "      <td>3.31</td>\n",
       "      <td>Male</td>\n",
       "      <td>No</td>\n",
       "      <td>Sun</td>\n",
       "      <td>Dinner</td>\n",
       "      <td>2</td>\n",
       "    </tr>\n",
       "    <tr>\n",
       "      <th>4</th>\n",
       "      <td>5</td>\n",
       "      <td>24.59</td>\n",
       "      <td>3.61</td>\n",
       "      <td>Female</td>\n",
       "      <td>No</td>\n",
       "      <td>Sun</td>\n",
       "      <td>Dinner</td>\n",
       "      <td>4</td>\n",
       "    </tr>\n",
       "    <tr>\n",
       "      <th>...</th>\n",
       "      <td>...</td>\n",
       "      <td>...</td>\n",
       "      <td>...</td>\n",
       "      <td>...</td>\n",
       "      <td>...</td>\n",
       "      <td>...</td>\n",
       "      <td>...</td>\n",
       "      <td>...</td>\n",
       "    </tr>\n",
       "    <tr>\n",
       "      <th>239</th>\n",
       "      <td>240</td>\n",
       "      <td>29.03</td>\n",
       "      <td>5.92</td>\n",
       "      <td>Male</td>\n",
       "      <td>No</td>\n",
       "      <td>Sat</td>\n",
       "      <td>Dinner</td>\n",
       "      <td>3</td>\n",
       "    </tr>\n",
       "    <tr>\n",
       "      <th>240</th>\n",
       "      <td>241</td>\n",
       "      <td>27.18</td>\n",
       "      <td>2.00</td>\n",
       "      <td>Female</td>\n",
       "      <td>Yes</td>\n",
       "      <td>Sat</td>\n",
       "      <td>Dinner</td>\n",
       "      <td>2</td>\n",
       "    </tr>\n",
       "    <tr>\n",
       "      <th>241</th>\n",
       "      <td>242</td>\n",
       "      <td>22.67</td>\n",
       "      <td>2.00</td>\n",
       "      <td>Male</td>\n",
       "      <td>Yes</td>\n",
       "      <td>Sat</td>\n",
       "      <td>Dinner</td>\n",
       "      <td>2</td>\n",
       "    </tr>\n",
       "    <tr>\n",
       "      <th>242</th>\n",
       "      <td>243</td>\n",
       "      <td>17.82</td>\n",
       "      <td>1.75</td>\n",
       "      <td>Male</td>\n",
       "      <td>No</td>\n",
       "      <td>Sat</td>\n",
       "      <td>Dinner</td>\n",
       "      <td>2</td>\n",
       "    </tr>\n",
       "    <tr>\n",
       "      <th>243</th>\n",
       "      <td>244</td>\n",
       "      <td>18.78</td>\n",
       "      <td>3.00</td>\n",
       "      <td>Female</td>\n",
       "      <td>No</td>\n",
       "      <td>Thur</td>\n",
       "      <td>Dinner</td>\n",
       "      <td>2</td>\n",
       "    </tr>\n",
       "  </tbody>\n",
       "</table>\n",
       "<p>244 rows × 8 columns</p>\n",
       "</div>"
      ],
      "text/plain": [
       "     Unnamed: 0  total_bill   tip     sex smoker   day    time  size\n",
       "0             1       16.99  1.01  Female     No   Sun  Dinner     2\n",
       "1             2       10.34  1.66    Male     No   Sun  Dinner     3\n",
       "2             3       21.01  3.50    Male     No   Sun  Dinner     3\n",
       "3             4       23.68  3.31    Male     No   Sun  Dinner     2\n",
       "4             5       24.59  3.61  Female     No   Sun  Dinner     4\n",
       "..          ...         ...   ...     ...    ...   ...     ...   ...\n",
       "239         240       29.03  5.92    Male     No   Sat  Dinner     3\n",
       "240         241       27.18  2.00  Female    Yes   Sat  Dinner     2\n",
       "241         242       22.67  2.00    Male    Yes   Sat  Dinner     2\n",
       "242         243       17.82  1.75    Male     No   Sat  Dinner     2\n",
       "243         244       18.78  3.00  Female     No  Thur  Dinner     2\n",
       "\n",
       "[244 rows x 8 columns]"
      ]
     },
     "metadata": {
      "tags": []
     },
     "execution_count": 26
    }
   ]
  },
  {
   "cell_type": "code",
   "metadata": {
    "id": "5dVa3VE_4QvW",
    "colab": {
     "base_uri": "https://localhost:8080/",
     "height": 204
    },
    "executionInfo": {
     "status": "ok",
     "timestamp": 1605542135968,
     "user_tz": -180,
     "elapsed": 911,
     "user": {
      "displayName": "Рустам Асадуллаев",
      "photoUrl": "",
      "userId": "00028302062075019920"
     }
    },
    "outputId": "8889416d-14ab-4209-f849-ad00967e1169"
   },
   "source": [
    "tips = tips.drop(labels='Unnamed: 0', axis=1)\n",
    "tips.head()"
   ],
   "execution_count": null,
   "outputs": [
    {
     "output_type": "execute_result",
     "data": {
      "text/html": [
       "<div>\n",
       "<style scoped>\n",
       "    .dataframe tbody tr th:only-of-type {\n",
       "        vertical-align: middle;\n",
       "    }\n",
       "\n",
       "    .dataframe tbody tr th {\n",
       "        vertical-align: top;\n",
       "    }\n",
       "\n",
       "    .dataframe thead th {\n",
       "        text-align: right;\n",
       "    }\n",
       "</style>\n",
       "<table border=\"1\" class=\"dataframe\">\n",
       "  <thead>\n",
       "    <tr style=\"text-align: right;\">\n",
       "      <th></th>\n",
       "      <th>total_bill</th>\n",
       "      <th>tip</th>\n",
       "      <th>sex</th>\n",
       "      <th>smoker</th>\n",
       "      <th>day</th>\n",
       "      <th>time</th>\n",
       "      <th>size</th>\n",
       "    </tr>\n",
       "  </thead>\n",
       "  <tbody>\n",
       "    <tr>\n",
       "      <th>0</th>\n",
       "      <td>16.99</td>\n",
       "      <td>1.01</td>\n",
       "      <td>Female</td>\n",
       "      <td>No</td>\n",
       "      <td>Sun</td>\n",
       "      <td>Dinner</td>\n",
       "      <td>2</td>\n",
       "    </tr>\n",
       "    <tr>\n",
       "      <th>1</th>\n",
       "      <td>10.34</td>\n",
       "      <td>1.66</td>\n",
       "      <td>Male</td>\n",
       "      <td>No</td>\n",
       "      <td>Sun</td>\n",
       "      <td>Dinner</td>\n",
       "      <td>3</td>\n",
       "    </tr>\n",
       "    <tr>\n",
       "      <th>2</th>\n",
       "      <td>21.01</td>\n",
       "      <td>3.50</td>\n",
       "      <td>Male</td>\n",
       "      <td>No</td>\n",
       "      <td>Sun</td>\n",
       "      <td>Dinner</td>\n",
       "      <td>3</td>\n",
       "    </tr>\n",
       "    <tr>\n",
       "      <th>3</th>\n",
       "      <td>23.68</td>\n",
       "      <td>3.31</td>\n",
       "      <td>Male</td>\n",
       "      <td>No</td>\n",
       "      <td>Sun</td>\n",
       "      <td>Dinner</td>\n",
       "      <td>2</td>\n",
       "    </tr>\n",
       "    <tr>\n",
       "      <th>4</th>\n",
       "      <td>24.59</td>\n",
       "      <td>3.61</td>\n",
       "      <td>Female</td>\n",
       "      <td>No</td>\n",
       "      <td>Sun</td>\n",
       "      <td>Dinner</td>\n",
       "      <td>4</td>\n",
       "    </tr>\n",
       "  </tbody>\n",
       "</table>\n",
       "</div>"
      ],
      "text/plain": [
       "   total_bill   tip     sex smoker  day    time  size\n",
       "0       16.99  1.01  Female     No  Sun  Dinner     2\n",
       "1       10.34  1.66    Male     No  Sun  Dinner     3\n",
       "2       21.01  3.50    Male     No  Sun  Dinner     3\n",
       "3       23.68  3.31    Male     No  Sun  Dinner     2\n",
       "4       24.59  3.61  Female     No  Sun  Dinner     4"
      ]
     },
     "metadata": {
      "tags": []
     },
     "execution_count": 27
    }
   ]
  },
  {
   "cell_type": "code",
   "metadata": {
    "id": "4J9PdCbU4X4M",
    "colab": {
     "base_uri": "https://localhost:8080/",
     "height": 280
    },
    "executionInfo": {
     "status": "ok",
     "timestamp": 1605542160219,
     "user_tz": -180,
     "elapsed": 851,
     "user": {
      "displayName": "Рустам Асадуллаев",
      "photoUrl": "",
      "userId": "00028302062075019920"
     }
    },
    "outputId": "d28e0327-fc33-4afb-b325-a0f56ccf616e"
   },
   "source": [
    "plt.figure()\n",
    "ax = sns.boxplot(x=tips[\"total_bill\"])"
   ],
   "execution_count": null,
   "outputs": [
    {
     "output_type": "display_data",
     "data": {
      "image/png": "[encoded data removed]",
      "text/plain": [
       "<Figure size 432x288 with 1 Axes>"
      ]
     },
     "metadata": {
      "tags": [],
      "needs_background": "light"
     }
    }
   ]
  },
  {
   "cell_type": "code",
   "metadata": {
    "id": "z1GHJdEl4RPi",
    "colab": {
     "base_uri": "https://localhost:8080/",
     "height": 279
    },
    "executionInfo": {
     "status": "ok",
     "timestamp": 1605542237262,
     "user_tz": -180,
     "elapsed": 895,
     "user": {
      "displayName": "Рустам Асадуллаев",
      "photoUrl": "",
      "userId": "00028302062075019920"
     }
    },
    "outputId": "20b825d0-338f-4c27-de13-d6b2a8874de7"
   },
   "source": [
    "plt.figure()\n",
    "ax = sns.boxplot(x=\"day\", y=\"total_bill\", data=tips)"
   ],
   "execution_count": null,
   "outputs": [
    {
     "output_type": "display_data",
     "data": {
      "image/png": "[encoded data removed]",
      "text/plain": [
       "<Figure size 432x288 with 1 Axes>"
      ]
     },
     "metadata": {
      "tags": [],
      "needs_background": "light"
     }
    }
   ]
  },
  {
   "cell_type": "markdown",
   "metadata": {
    "id": "H8EQfNex5owK"
   },
   "source": [
    "**Препроцессинг данных**"
   ]
  },
  {
   "cell_type": "code",
   "metadata": {
    "id": "Vc2QFsiY5Feu"
   },
   "source": [
    "# преобразование признака курение\n",
    "tips['smoker'].replace({'Yes': True, 'No': False}, inplace=True) #inplace=True применить изменения к датасету\n",
    "tips.tail(25)"
   ],
   "execution_count": null,
   "outputs": []
  },
  {
   "cell_type": "code",
   "metadata": {
    "id": "yWnfahqv5Vgj"
   },
   "source": [
    "from sklearn import preprocessing\n",
    "enc = preprocessing.OneHotEncoder()\n"
   ],
   "execution_count": null,
   "outputs": []
  },
  {
   "cell_type": "code",
   "metadata": {
    "id": "feQ0YXUK5UKc",
    "colab": {
     "base_uri": "https://localhost:8080/",
     "height": 221
    },
    "executionInfo": {
     "status": "ok",
     "timestamp": 1605542834863,
     "user_tz": -180,
     "elapsed": 724,
     "user": {
      "displayName": "Рустам Асадуллаев",
      "photoUrl": "",
      "userId": "00028302062075019920"
     }
    },
    "outputId": "58a584b6-44ed-4b19-f3e5-749e7bcc4ab7"
   },
   "source": [
    "print(tips.shape)\n",
    "tips['day'] = enc.fit_transform(np.array(tips['day'].values).reshape(-1, 1))\n",
    "tips.head()"
   ],
   "execution_count": null,
   "outputs": [
    {
     "output_type": "stream",
     "text": [
      "(244, 7)\n"
     ],
     "name": "stdout"
    },
    {
     "output_type": "execute_result",
     "data": {
      "text/html": [
       "<div>\n",
       "<style scoped>\n",
       "    .dataframe tbody tr th:only-of-type {\n",
       "        vertical-align: middle;\n",
       "    }\n",
       "\n",
       "    .dataframe tbody tr th {\n",
       "        vertical-align: top;\n",
       "    }\n",
       "\n",
       "    .dataframe thead th {\n",
       "        text-align: right;\n",
       "    }\n",
       "</style>\n",
       "<table border=\"1\" class=\"dataframe\">\n",
       "  <thead>\n",
       "    <tr style=\"text-align: right;\">\n",
       "      <th></th>\n",
       "      <th>total_bill</th>\n",
       "      <th>tip</th>\n",
       "      <th>sex</th>\n",
       "      <th>smoker</th>\n",
       "      <th>day</th>\n",
       "      <th>time</th>\n",
       "      <th>size</th>\n",
       "    </tr>\n",
       "  </thead>\n",
       "  <tbody>\n",
       "    <tr>\n",
       "      <th>0</th>\n",
       "      <td>16.99</td>\n",
       "      <td>1.01</td>\n",
       "      <td>Female</td>\n",
       "      <td>False</td>\n",
       "      <td>(0, 2)\\t1.0\\n  (1, 2)\\t1.0\\n  (2, 2)\\t1.0\\n ...</td>\n",
       "      <td>Dinner</td>\n",
       "      <td>2</td>\n",
       "    </tr>\n",
       "    <tr>\n",
       "      <th>1</th>\n",
       "      <td>10.34</td>\n",
       "      <td>1.66</td>\n",
       "      <td>Male</td>\n",
       "      <td>False</td>\n",
       "      <td>(0, 2)\\t1.0\\n  (1, 2)\\t1.0\\n  (2, 2)\\t1.0\\n ...</td>\n",
       "      <td>Dinner</td>\n",
       "      <td>3</td>\n",
       "    </tr>\n",
       "    <tr>\n",
       "      <th>2</th>\n",
       "      <td>21.01</td>\n",
       "      <td>3.50</td>\n",
       "      <td>Male</td>\n",
       "      <td>False</td>\n",
       "      <td>(0, 2)\\t1.0\\n  (1, 2)\\t1.0\\n  (2, 2)\\t1.0\\n ...</td>\n",
       "      <td>Dinner</td>\n",
       "      <td>3</td>\n",
       "    </tr>\n",
       "    <tr>\n",
       "      <th>3</th>\n",
       "      <td>23.68</td>\n",
       "      <td>3.31</td>\n",
       "      <td>Male</td>\n",
       "      <td>False</td>\n",
       "      <td>(0, 2)\\t1.0\\n  (1, 2)\\t1.0\\n  (2, 2)\\t1.0\\n ...</td>\n",
       "      <td>Dinner</td>\n",
       "      <td>2</td>\n",
       "    </tr>\n",
       "    <tr>\n",
       "      <th>4</th>\n",
       "      <td>24.59</td>\n",
       "      <td>3.61</td>\n",
       "      <td>Female</td>\n",
       "      <td>False</td>\n",
       "      <td>(0, 2)\\t1.0\\n  (1, 2)\\t1.0\\n  (2, 2)\\t1.0\\n ...</td>\n",
       "      <td>Dinner</td>\n",
       "      <td>4</td>\n",
       "    </tr>\n",
       "  </tbody>\n",
       "</table>\n",
       "</div>"
      ],
      "text/plain": [
       "   total_bill   tip  ...    time  size\n",
       "0       16.99  1.01  ...  Dinner     2\n",
       "1       10.34  1.66  ...  Dinner     3\n",
       "2       21.01  3.50  ...  Dinner     3\n",
       "3       23.68  3.31  ...  Dinner     2\n",
       "4       24.59  3.61  ...  Dinner     4\n",
       "\n",
       "[5 rows x 7 columns]"
      ]
     },
     "metadata": {
      "tags": []
     },
     "execution_count": 35
    }
   ]
  },
  {
   "cell_type": "markdown",
   "metadata": {
    "id": "t1NNO38PDLlV"
   },
   "source": [
    "**Построение диаграмм рассеяния** с применением функции [seaborn.pairplot](https://seaborn.pydata.org/generated/seaborn.pairplot.html)\n",
    "\n",
    "По умолчанию эта функция создает сетку осей, так что каждая числовая переменная в ней будет совместно использоваться по осям Y в одной строке и осям X в одном столбце.\n",
    "\n",
    "Диагональные графики обрабатываются по-разному: строится график одномерного распределения, чтобы показать предельное распределение данных в каждом столбце.\n",
    "\n"
   ]
  },
  {
   "cell_type": "code",
   "metadata": {
    "id": "fOeGoFzx58O3",
    "colab": {
     "base_uri": "https://localhost:8080/",
     "height": 794
    },
    "executionInfo": {
     "status": "ok",
     "timestamp": 1605542913769,
     "user_tz": -180,
     "elapsed": 8054,
     "user": {
      "displayName": "Рустам Асадуллаев",
      "photoUrl": "",
      "userId": "00028302062075019920"
     }
    },
    "outputId": "930117a0-20ba-4a06-b7a2-5427418bc857"
   },
   "source": [
    "sns.pairplot(tips)"
   ],
   "execution_count": null,
   "outputs": [
    {
     "output_type": "stream",
     "text": [
      "<string>:6: SparseEfficiencyWarning: Comparing a sparse matrix with 0 using == is inefficient, try using != instead.\n",
      "<string>:6: RuntimeWarning: Converting input from bool to <class 'numpy.uint8'> for compatibility.\n",
      "<string>:6: RuntimeWarning: Converting input from bool to <class 'numpy.uint8'> for compatibility.\n"
     ],
     "name": "stderr"
    },
    {
     "output_type": "execute_result",
     "data": {
      "text/plain": [
       "<seaborn.axisgrid.PairGrid at 0x7f554c046080>"
      ]
     },
     "metadata": {
      "tags": []
     },
     "execution_count": 36
    },
    {
     "output_type": "display_data",
     "data": {
      "image/png": "[encoded data removed]",
      "text/plain": [
       "<Figure size 720x720 with 20 Axes>"
      ]
     },
     "metadata": {
      "tags": [],
      "needs_background": "light"
     }
    }
   ]
  },
  {
   "cell_type": "code",
   "metadata": {
    "id": "YkyWI4t5Eg2o",
    "colab": {
     "base_uri": "https://localhost:8080/",
     "height": 584
    },
    "executionInfo": {
     "status": "ok",
     "timestamp": 1605543188038,
     "user_tz": -180,
     "elapsed": 5350,
     "user": {
      "displayName": "Рустам Асадуллаев",
      "photoUrl": "",
      "userId": "00028302062075019920"
     }
    },
    "outputId": "328f813e-80e6-4dca-b573-fb1be6dbd066"
   },
   "source": [
    "# Присвоение hueпеременной добавляет семантическое отображение и изменяет маргинальный график по умолчанию на многоуровневую оценку плотности ядра:\n",
    "sns.pairplot(tips, hue = 'smoker')"
   ],
   "execution_count": null,
   "outputs": [
    {
     "output_type": "stream",
     "text": [
      "<string>:6: SparseEfficiencyWarning: Comparing a sparse matrix with 0 using == is inefficient, try using != instead.\n"
     ],
     "name": "stderr"
    },
    {
     "output_type": "execute_result",
     "data": {
      "text/plain": [
       "<seaborn.axisgrid.PairGrid at 0x7f5547bad668>"
      ]
     },
     "metadata": {
      "tags": []
     },
     "execution_count": 37
    },
    {
     "output_type": "display_data",
     "data": {
      "image/png": "[encoded data removed]",
      "text/plain": [
       "<Figure size 601.25x540 with 12 Axes>"
      ]
     },
     "metadata": {
      "tags": [],
      "needs_background": "light"
     }
    }
   ]
  },
  {
   "cell_type": "code",
   "metadata": {
    "id": "oLbpokfjFW08",
    "colab": {
     "base_uri": "https://localhost:8080/",
     "height": 1000
    },
    "executionInfo": {
     "status": "ok",
     "timestamp": 1605543756932,
     "user_tz": -180,
     "elapsed": 4107,
     "user": {
      "displayName": "Рустам Асадуллаев",
      "photoUrl": "",
      "userId": "00028302062075019920"
     }
    },
    "outputId": "c1cde86c-ddd3-4c73-97ac-dd7ecb15a68a"
   },
   "source": [
    "sns.pairplot(tips, hue = 'tip', vars = ['size', 'total_bill'])"
   ],
   "execution_count": null,
   "outputs": [
    {
     "output_type": "stream",
     "text": [
      "<string>:6: SparseEfficiencyWarning: Comparing a sparse matrix with 0 using == is inefficient, try using != instead.\n",
      "/usr/local/lib/python3.6/dist-packages/seaborn/distributions.py:305: UserWarning: Dataset has 0 variance; skipping density estimate.\n",
      "  warnings.warn(msg, UserWarning)\n",
      "/usr/local/lib/python3.6/dist-packages/seaborn/distributions.py:305: UserWarning: Dataset has 0 variance; skipping density estimate.\n",
      "  warnings.warn(msg, UserWarning)\n",
      "/usr/local/lib/python3.6/dist-packages/seaborn/distributions.py:305: UserWarning: Dataset has 0 variance; skipping density estimate.\n",
      "  warnings.warn(msg, UserWarning)\n",
      "/usr/local/lib/python3.6/dist-packages/seaborn/distributions.py:305: UserWarning: Dataset has 0 variance; skipping density estimate.\n",
      "  warnings.warn(msg, UserWarning)\n",
      "/usr/local/lib/python3.6/dist-packages/seaborn/distributions.py:305: UserWarning: Dataset has 0 variance; skipping density estimate.\n",
      "  warnings.warn(msg, UserWarning)\n",
      "/usr/local/lib/python3.6/dist-packages/seaborn/distributions.py:305: UserWarning: Dataset has 0 variance; skipping density estimate.\n",
      "  warnings.warn(msg, UserWarning)\n",
      "/usr/local/lib/python3.6/dist-packages/seaborn/distributions.py:305: UserWarning: Dataset has 0 variance; skipping density estimate.\n",
      "  warnings.warn(msg, UserWarning)\n",
      "/usr/local/lib/python3.6/dist-packages/seaborn/distributions.py:305: UserWarning: Dataset has 0 variance; skipping density estimate.\n",
      "  warnings.warn(msg, UserWarning)\n",
      "/usr/local/lib/python3.6/dist-packages/seaborn/distributions.py:305: UserWarning: Dataset has 0 variance; skipping density estimate.\n",
      "  warnings.warn(msg, UserWarning)\n",
      "/usr/local/lib/python3.6/dist-packages/seaborn/distributions.py:305: UserWarning: Dataset has 0 variance; skipping density estimate.\n",
      "  warnings.warn(msg, UserWarning)\n",
      "/usr/local/lib/python3.6/dist-packages/seaborn/distributions.py:305: UserWarning: Dataset has 0 variance; skipping density estimate.\n",
      "  warnings.warn(msg, UserWarning)\n",
      "/usr/local/lib/python3.6/dist-packages/seaborn/distributions.py:305: UserWarning: Dataset has 0 variance; skipping density estimate.\n",
      "  warnings.warn(msg, UserWarning)\n",
      "/usr/local/lib/python3.6/dist-packages/seaborn/distributions.py:305: UserWarning: Dataset has 0 variance; skipping density estimate.\n",
      "  warnings.warn(msg, UserWarning)\n",
      "/usr/local/lib/python3.6/dist-packages/seaborn/distributions.py:305: UserWarning: Dataset has 0 variance; skipping density estimate.\n",
      "  warnings.warn(msg, UserWarning)\n",
      "/usr/local/lib/python3.6/dist-packages/seaborn/distributions.py:305: UserWarning: Dataset has 0 variance; skipping density estimate.\n",
      "  warnings.warn(msg, UserWarning)\n",
      "/usr/local/lib/python3.6/dist-packages/seaborn/distributions.py:305: UserWarning: Dataset has 0 variance; skipping density estimate.\n",
      "  warnings.warn(msg, UserWarning)\n",
      "/usr/local/lib/python3.6/dist-packages/seaborn/distributions.py:305: UserWarning: Dataset has 0 variance; skipping density estimate.\n",
      "  warnings.warn(msg, UserWarning)\n",
      "/usr/local/lib/python3.6/dist-packages/seaborn/distributions.py:305: UserWarning: Dataset has 0 variance; skipping density estimate.\n",
      "  warnings.warn(msg, UserWarning)\n",
      "/usr/local/lib/python3.6/dist-packages/seaborn/distributions.py:305: UserWarning: Dataset has 0 variance; skipping density estimate.\n",
      "  warnings.warn(msg, UserWarning)\n",
      "/usr/local/lib/python3.6/dist-packages/seaborn/distributions.py:305: UserWarning: Dataset has 0 variance; skipping density estimate.\n",
      "  warnings.warn(msg, UserWarning)\n",
      "/usr/local/lib/python3.6/dist-packages/seaborn/distributions.py:305: UserWarning: Dataset has 0 variance; skipping density estimate.\n",
      "  warnings.warn(msg, UserWarning)\n",
      "/usr/local/lib/python3.6/dist-packages/seaborn/distributions.py:305: UserWarning: Dataset has 0 variance; skipping density estimate.\n",
      "  warnings.warn(msg, UserWarning)\n",
      "/usr/local/lib/python3.6/dist-packages/seaborn/distributions.py:305: UserWarning: Dataset has 0 variance; skipping density estimate.\n",
      "  warnings.warn(msg, UserWarning)\n",
      "/usr/local/lib/python3.6/dist-packages/seaborn/distributions.py:305: UserWarning: Dataset has 0 variance; skipping density estimate.\n",
      "  warnings.warn(msg, UserWarning)\n",
      "/usr/local/lib/python3.6/dist-packages/seaborn/distributions.py:305: UserWarning: Dataset has 0 variance; skipping density estimate.\n",
      "  warnings.warn(msg, UserWarning)\n",
      "/usr/local/lib/python3.6/dist-packages/seaborn/distributions.py:305: UserWarning: Dataset has 0 variance; skipping density estimate.\n",
      "  warnings.warn(msg, UserWarning)\n",
      "/usr/local/lib/python3.6/dist-packages/seaborn/distributions.py:305: UserWarning: Dataset has 0 variance; skipping density estimate.\n",
      "  warnings.warn(msg, UserWarning)\n",
      "/usr/local/lib/python3.6/dist-packages/seaborn/distributions.py:305: UserWarning: Dataset has 0 variance; skipping density estimate.\n",
      "  warnings.warn(msg, UserWarning)\n",
      "/usr/local/lib/python3.6/dist-packages/seaborn/distributions.py:305: UserWarning: Dataset has 0 variance; skipping density estimate.\n",
      "  warnings.warn(msg, UserWarning)\n",
      "/usr/local/lib/python3.6/dist-packages/seaborn/distributions.py:305: UserWarning: Dataset has 0 variance; skipping density estimate.\n",
      "  warnings.warn(msg, UserWarning)\n",
      "/usr/local/lib/python3.6/dist-packages/seaborn/distributions.py:305: UserWarning: Dataset has 0 variance; skipping density estimate.\n",
      "  warnings.warn(msg, UserWarning)\n",
      "/usr/local/lib/python3.6/dist-packages/seaborn/distributions.py:305: UserWarning: Dataset has 0 variance; skipping density estimate.\n",
      "  warnings.warn(msg, UserWarning)\n",
      "/usr/local/lib/python3.6/dist-packages/seaborn/distributions.py:305: UserWarning: Dataset has 0 variance; skipping density estimate.\n",
      "  warnings.warn(msg, UserWarning)\n",
      "/usr/local/lib/python3.6/dist-packages/seaborn/distributions.py:305: UserWarning: Dataset has 0 variance; skipping density estimate.\n",
      "  warnings.warn(msg, UserWarning)\n",
      "/usr/local/lib/python3.6/dist-packages/seaborn/distributions.py:305: UserWarning: Dataset has 0 variance; skipping density estimate.\n",
      "  warnings.warn(msg, UserWarning)\n",
      "/usr/local/lib/python3.6/dist-packages/seaborn/distributions.py:305: UserWarning: Dataset has 0 variance; skipping density estimate.\n",
      "  warnings.warn(msg, UserWarning)\n",
      "/usr/local/lib/python3.6/dist-packages/seaborn/distributions.py:305: UserWarning: Dataset has 0 variance; skipping density estimate.\n",
      "  warnings.warn(msg, UserWarning)\n",
      "/usr/local/lib/python3.6/dist-packages/seaborn/distributions.py:305: UserWarning: Dataset has 0 variance; skipping density estimate.\n",
      "  warnings.warn(msg, UserWarning)\n",
      "/usr/local/lib/python3.6/dist-packages/seaborn/distributions.py:305: UserWarning: Dataset has 0 variance; skipping density estimate.\n",
      "  warnings.warn(msg, UserWarning)\n",
      "/usr/local/lib/python3.6/dist-packages/seaborn/distributions.py:305: UserWarning: Dataset has 0 variance; skipping density estimate.\n",
      "  warnings.warn(msg, UserWarning)\n",
      "/usr/local/lib/python3.6/dist-packages/seaborn/distributions.py:305: UserWarning: Dataset has 0 variance; skipping density estimate.\n",
      "  warnings.warn(msg, UserWarning)\n",
      "/usr/local/lib/python3.6/dist-packages/seaborn/distributions.py:305: UserWarning: Dataset has 0 variance; skipping density estimate.\n",
      "  warnings.warn(msg, UserWarning)\n",
      "/usr/local/lib/python3.6/dist-packages/seaborn/distributions.py:305: UserWarning: Dataset has 0 variance; skipping density estimate.\n",
      "  warnings.warn(msg, UserWarning)\n",
      "/usr/local/lib/python3.6/dist-packages/seaborn/distributions.py:305: UserWarning: Dataset has 0 variance; skipping density estimate.\n",
      "  warnings.warn(msg, UserWarning)\n",
      "/usr/local/lib/python3.6/dist-packages/seaborn/distributions.py:305: UserWarning: Dataset has 0 variance; skipping density estimate.\n",
      "  warnings.warn(msg, UserWarning)\n",
      "/usr/local/lib/python3.6/dist-packages/seaborn/distributions.py:305: UserWarning: Dataset has 0 variance; skipping density estimate.\n",
      "  warnings.warn(msg, UserWarning)\n",
      "/usr/local/lib/python3.6/dist-packages/seaborn/distributions.py:305: UserWarning: Dataset has 0 variance; skipping density estimate.\n",
      "  warnings.warn(msg, UserWarning)\n",
      "/usr/local/lib/python3.6/dist-packages/seaborn/distributions.py:305: UserWarning: Dataset has 0 variance; skipping density estimate.\n",
      "  warnings.warn(msg, UserWarning)\n",
      "/usr/local/lib/python3.6/dist-packages/seaborn/distributions.py:305: UserWarning: Dataset has 0 variance; skipping density estimate.\n",
      "  warnings.warn(msg, UserWarning)\n",
      "/usr/local/lib/python3.6/dist-packages/seaborn/distributions.py:305: UserWarning: Dataset has 0 variance; skipping density estimate.\n",
      "  warnings.warn(msg, UserWarning)\n",
      "/usr/local/lib/python3.6/dist-packages/seaborn/distributions.py:305: UserWarning: Dataset has 0 variance; skipping density estimate.\n",
      "  warnings.warn(msg, UserWarning)\n",
      "/usr/local/lib/python3.6/dist-packages/seaborn/distributions.py:305: UserWarning: Dataset has 0 variance; skipping density estimate.\n",
      "  warnings.warn(msg, UserWarning)\n",
      "/usr/local/lib/python3.6/dist-packages/seaborn/distributions.py:305: UserWarning: Dataset has 0 variance; skipping density estimate.\n",
      "  warnings.warn(msg, UserWarning)\n",
      "/usr/local/lib/python3.6/dist-packages/seaborn/distributions.py:305: UserWarning: Dataset has 0 variance; skipping density estimate.\n",
      "  warnings.warn(msg, UserWarning)\n",
      "/usr/local/lib/python3.6/dist-packages/seaborn/distributions.py:305: UserWarning: Dataset has 0 variance; skipping density estimate.\n",
      "  warnings.warn(msg, UserWarning)\n",
      "/usr/local/lib/python3.6/dist-packages/seaborn/distributions.py:305: UserWarning: Dataset has 0 variance; skipping density estimate.\n",
      "  warnings.warn(msg, UserWarning)\n",
      "/usr/local/lib/python3.6/dist-packages/seaborn/distributions.py:305: UserWarning: Dataset has 0 variance; skipping density estimate.\n",
      "  warnings.warn(msg, UserWarning)\n",
      "/usr/local/lib/python3.6/dist-packages/seaborn/distributions.py:305: UserWarning: Dataset has 0 variance; skipping density estimate.\n",
      "  warnings.warn(msg, UserWarning)\n",
      "/usr/local/lib/python3.6/dist-packages/seaborn/distributions.py:305: UserWarning: Dataset has 0 variance; skipping density estimate.\n",
      "  warnings.warn(msg, UserWarning)\n",
      "/usr/local/lib/python3.6/dist-packages/seaborn/distributions.py:305: UserWarning: Dataset has 0 variance; skipping density estimate.\n",
      "  warnings.warn(msg, UserWarning)\n",
      "/usr/local/lib/python3.6/dist-packages/seaborn/distributions.py:305: UserWarning: Dataset has 0 variance; skipping density estimate.\n",
      "  warnings.warn(msg, UserWarning)\n",
      "/usr/local/lib/python3.6/dist-packages/seaborn/distributions.py:305: UserWarning: Dataset has 0 variance; skipping density estimate.\n",
      "  warnings.warn(msg, UserWarning)\n",
      "/usr/local/lib/python3.6/dist-packages/seaborn/distributions.py:305: UserWarning: Dataset has 0 variance; skipping density estimate.\n",
      "  warnings.warn(msg, UserWarning)\n",
      "/usr/local/lib/python3.6/dist-packages/seaborn/distributions.py:305: UserWarning: Dataset has 0 variance; skipping density estimate.\n",
      "  warnings.warn(msg, UserWarning)\n",
      "/usr/local/lib/python3.6/dist-packages/seaborn/distributions.py:305: UserWarning: Dataset has 0 variance; skipping density estimate.\n",
      "  warnings.warn(msg, UserWarning)\n",
      "/usr/local/lib/python3.6/dist-packages/seaborn/distributions.py:305: UserWarning: Dataset has 0 variance; skipping density estimate.\n",
      "  warnings.warn(msg, UserWarning)\n",
      "/usr/local/lib/python3.6/dist-packages/seaborn/distributions.py:305: UserWarning: Dataset has 0 variance; skipping density estimate.\n",
      "  warnings.warn(msg, UserWarning)\n",
      "/usr/local/lib/python3.6/dist-packages/seaborn/distributions.py:305: UserWarning: Dataset has 0 variance; skipping density estimate.\n",
      "  warnings.warn(msg, UserWarning)\n",
      "/usr/local/lib/python3.6/dist-packages/seaborn/distributions.py:305: UserWarning: Dataset has 0 variance; skipping density estimate.\n",
      "  warnings.warn(msg, UserWarning)\n",
      "/usr/local/lib/python3.6/dist-packages/seaborn/distributions.py:305: UserWarning: Dataset has 0 variance; skipping density estimate.\n",
      "  warnings.warn(msg, UserWarning)\n",
      "/usr/local/lib/python3.6/dist-packages/seaborn/distributions.py:305: UserWarning: Dataset has 0 variance; skipping density estimate.\n",
      "  warnings.warn(msg, UserWarning)\n",
      "/usr/local/lib/python3.6/dist-packages/seaborn/distributions.py:305: UserWarning: Dataset has 0 variance; skipping density estimate.\n",
      "  warnings.warn(msg, UserWarning)\n",
      "/usr/local/lib/python3.6/dist-packages/seaborn/distributions.py:305: UserWarning: Dataset has 0 variance; skipping density estimate.\n",
      "  warnings.warn(msg, UserWarning)\n",
      "/usr/local/lib/python3.6/dist-packages/seaborn/distributions.py:305: UserWarning: Dataset has 0 variance; skipping density estimate.\n",
      "  warnings.warn(msg, UserWarning)\n",
      "/usr/local/lib/python3.6/dist-packages/seaborn/distributions.py:305: UserWarning: Dataset has 0 variance; skipping density estimate.\n",
      "  warnings.warn(msg, UserWarning)\n",
      "/usr/local/lib/python3.6/dist-packages/seaborn/distributions.py:305: UserWarning: Dataset has 0 variance; skipping density estimate.\n",
      "  warnings.warn(msg, UserWarning)\n",
      "/usr/local/lib/python3.6/dist-packages/seaborn/distributions.py:305: UserWarning: Dataset has 0 variance; skipping density estimate.\n",
      "  warnings.warn(msg, UserWarning)\n",
      "/usr/local/lib/python3.6/dist-packages/seaborn/distributions.py:305: UserWarning: Dataset has 0 variance; skipping density estimate.\n",
      "  warnings.warn(msg, UserWarning)\n",
      "/usr/local/lib/python3.6/dist-packages/seaborn/distributions.py:305: UserWarning: Dataset has 0 variance; skipping density estimate.\n",
      "  warnings.warn(msg, UserWarning)\n",
      "/usr/local/lib/python3.6/dist-packages/seaborn/distributions.py:305: UserWarning: Dataset has 0 variance; skipping density estimate.\n",
      "  warnings.warn(msg, UserWarning)\n",
      "/usr/local/lib/python3.6/dist-packages/seaborn/distributions.py:305: UserWarning: Dataset has 0 variance; skipping density estimate.\n",
      "  warnings.warn(msg, UserWarning)\n",
      "/usr/local/lib/python3.6/dist-packages/seaborn/distributions.py:305: UserWarning: Dataset has 0 variance; skipping density estimate.\n",
      "  warnings.warn(msg, UserWarning)\n",
      "/usr/local/lib/python3.6/dist-packages/seaborn/distributions.py:305: UserWarning: Dataset has 0 variance; skipping density estimate.\n",
      "  warnings.warn(msg, UserWarning)\n",
      "/usr/local/lib/python3.6/dist-packages/seaborn/distributions.py:305: UserWarning: Dataset has 0 variance; skipping density estimate.\n",
      "  warnings.warn(msg, UserWarning)\n",
      "/usr/local/lib/python3.6/dist-packages/seaborn/distributions.py:305: UserWarning: Dataset has 0 variance; skipping density estimate.\n",
      "  warnings.warn(msg, UserWarning)\n",
      "/usr/local/lib/python3.6/dist-packages/seaborn/distributions.py:305: UserWarning: Dataset has 0 variance; skipping density estimate.\n",
      "  warnings.warn(msg, UserWarning)\n",
      "/usr/local/lib/python3.6/dist-packages/seaborn/distributions.py:305: UserWarning: Dataset has 0 variance; skipping density estimate.\n",
      "  warnings.warn(msg, UserWarning)\n",
      "/usr/local/lib/python3.6/dist-packages/seaborn/distributions.py:305: UserWarning: Dataset has 0 variance; skipping density estimate.\n",
      "  warnings.warn(msg, UserWarning)\n",
      "/usr/local/lib/python3.6/dist-packages/seaborn/distributions.py:305: UserWarning: Dataset has 0 variance; skipping density estimate.\n",
      "  warnings.warn(msg, UserWarning)\n",
      "/usr/local/lib/python3.6/dist-packages/seaborn/distributions.py:305: UserWarning: Dataset has 0 variance; skipping density estimate.\n",
      "  warnings.warn(msg, UserWarning)\n",
      "/usr/local/lib/python3.6/dist-packages/seaborn/distributions.py:305: UserWarning: Dataset has 0 variance; skipping density estimate.\n",
      "  warnings.warn(msg, UserWarning)\n",
      "/usr/local/lib/python3.6/dist-packages/seaborn/distributions.py:305: UserWarning: Dataset has 0 variance; skipping density estimate.\n",
      "  warnings.warn(msg, UserWarning)\n",
      "/usr/local/lib/python3.6/dist-packages/seaborn/distributions.py:305: UserWarning: Dataset has 0 variance; skipping density estimate.\n",
      "  warnings.warn(msg, UserWarning)\n",
      "/usr/local/lib/python3.6/dist-packages/seaborn/distributions.py:305: UserWarning: Dataset has 0 variance; skipping density estimate.\n",
      "  warnings.warn(msg, UserWarning)\n",
      "/usr/local/lib/python3.6/dist-packages/seaborn/distributions.py:305: UserWarning: Dataset has 0 variance; skipping density estimate.\n",
      "  warnings.warn(msg, UserWarning)\n",
      "/usr/local/lib/python3.6/dist-packages/seaborn/distributions.py:305: UserWarning: Dataset has 0 variance; skipping density estimate.\n",
      "  warnings.warn(msg, UserWarning)\n",
      "/usr/local/lib/python3.6/dist-packages/seaborn/distributions.py:305: UserWarning: Dataset has 0 variance; skipping density estimate.\n",
      "  warnings.warn(msg, UserWarning)\n",
      "/usr/local/lib/python3.6/dist-packages/seaborn/distributions.py:305: UserWarning: Dataset has 0 variance; skipping density estimate.\n",
      "  warnings.warn(msg, UserWarning)\n",
      "/usr/local/lib/python3.6/dist-packages/seaborn/distributions.py:305: UserWarning: Dataset has 0 variance; skipping density estimate.\n",
      "  warnings.warn(msg, UserWarning)\n",
      "/usr/local/lib/python3.6/dist-packages/seaborn/distributions.py:305: UserWarning: Dataset has 0 variance; skipping density estimate.\n",
      "  warnings.warn(msg, UserWarning)\n",
      "/usr/local/lib/python3.6/dist-packages/seaborn/distributions.py:305: UserWarning: Dataset has 0 variance; skipping density estimate.\n",
      "  warnings.warn(msg, UserWarning)\n",
      "/usr/local/lib/python3.6/dist-packages/seaborn/distributions.py:305: UserWarning: Dataset has 0 variance; skipping density estimate.\n",
      "  warnings.warn(msg, UserWarning)\n",
      "/usr/local/lib/python3.6/dist-packages/seaborn/distributions.py:305: UserWarning: Dataset has 0 variance; skipping density estimate.\n",
      "  warnings.warn(msg, UserWarning)\n",
      "/usr/local/lib/python3.6/dist-packages/seaborn/distributions.py:305: UserWarning: Dataset has 0 variance; skipping density estimate.\n",
      "  warnings.warn(msg, UserWarning)\n",
      "/usr/local/lib/python3.6/dist-packages/seaborn/distributions.py:305: UserWarning: Dataset has 0 variance; skipping density estimate.\n",
      "  warnings.warn(msg, UserWarning)\n",
      "/usr/local/lib/python3.6/dist-packages/seaborn/distributions.py:305: UserWarning: Dataset has 0 variance; skipping density estimate.\n",
      "  warnings.warn(msg, UserWarning)\n",
      "/usr/local/lib/python3.6/dist-packages/seaborn/distributions.py:305: UserWarning: Dataset has 0 variance; skipping density estimate.\n",
      "  warnings.warn(msg, UserWarning)\n",
      "/usr/local/lib/python3.6/dist-packages/seaborn/distributions.py:305: UserWarning: Dataset has 0 variance; skipping density estimate.\n",
      "  warnings.warn(msg, UserWarning)\n",
      "/usr/local/lib/python3.6/dist-packages/seaborn/distributions.py:305: UserWarning: Dataset has 0 variance; skipping density estimate.\n",
      "  warnings.warn(msg, UserWarning)\n",
      "/usr/local/lib/python3.6/dist-packages/seaborn/distributions.py:305: UserWarning: Dataset has 0 variance; skipping density estimate.\n",
      "  warnings.warn(msg, UserWarning)\n",
      "/usr/local/lib/python3.6/dist-packages/seaborn/distributions.py:305: UserWarning: Dataset has 0 variance; skipping density estimate.\n",
      "  warnings.warn(msg, UserWarning)\n",
      "/usr/local/lib/python3.6/dist-packages/seaborn/distributions.py:305: UserWarning: Dataset has 0 variance; skipping density estimate.\n",
      "  warnings.warn(msg, UserWarning)\n",
      "/usr/local/lib/python3.6/dist-packages/seaborn/distributions.py:305: UserWarning: Dataset has 0 variance; skipping density estimate.\n",
      "  warnings.warn(msg, UserWarning)\n",
      "/usr/local/lib/python3.6/dist-packages/seaborn/distributions.py:305: UserWarning: Dataset has 0 variance; skipping density estimate.\n",
      "  warnings.warn(msg, UserWarning)\n",
      "/usr/local/lib/python3.6/dist-packages/seaborn/distributions.py:305: UserWarning: Dataset has 0 variance; skipping density estimate.\n",
      "  warnings.warn(msg, UserWarning)\n",
      "/usr/local/lib/python3.6/dist-packages/seaborn/distributions.py:305: UserWarning: Dataset has 0 variance; skipping density estimate.\n",
      "  warnings.warn(msg, UserWarning)\n",
      "/usr/local/lib/python3.6/dist-packages/seaborn/distributions.py:305: UserWarning: Dataset has 0 variance; skipping density estimate.\n",
      "  warnings.warn(msg, UserWarning)\n",
      "/usr/local/lib/python3.6/dist-packages/seaborn/distributions.py:305: UserWarning: Dataset has 0 variance; skipping density estimate.\n",
      "  warnings.warn(msg, UserWarning)\n",
      "/usr/local/lib/python3.6/dist-packages/seaborn/distributions.py:305: UserWarning: Dataset has 0 variance; skipping density estimate.\n",
      "  warnings.warn(msg, UserWarning)\n",
      "/usr/local/lib/python3.6/dist-packages/seaborn/distributions.py:305: UserWarning: Dataset has 0 variance; skipping density estimate.\n",
      "  warnings.warn(msg, UserWarning)\n",
      "/usr/local/lib/python3.6/dist-packages/seaborn/distributions.py:305: UserWarning: Dataset has 0 variance; skipping density estimate.\n",
      "  warnings.warn(msg, UserWarning)\n",
      "/usr/local/lib/python3.6/dist-packages/seaborn/distributions.py:305: UserWarning: Dataset has 0 variance; skipping density estimate.\n",
      "  warnings.warn(msg, UserWarning)\n",
      "/usr/local/lib/python3.6/dist-packages/seaborn/distributions.py:305: UserWarning: Dataset has 0 variance; skipping density estimate.\n",
      "  warnings.warn(msg, UserWarning)\n",
      "/usr/local/lib/python3.6/dist-packages/seaborn/distributions.py:305: UserWarning: Dataset has 0 variance; skipping density estimate.\n",
      "  warnings.warn(msg, UserWarning)\n",
      "/usr/local/lib/python3.6/dist-packages/seaborn/distributions.py:305: UserWarning: Dataset has 0 variance; skipping density estimate.\n",
      "  warnings.warn(msg, UserWarning)\n",
      "/usr/local/lib/python3.6/dist-packages/seaborn/distributions.py:305: UserWarning: Dataset has 0 variance; skipping density estimate.\n",
      "  warnings.warn(msg, UserWarning)\n",
      "/usr/local/lib/python3.6/dist-packages/seaborn/distributions.py:305: UserWarning: Dataset has 0 variance; skipping density estimate.\n",
      "  warnings.warn(msg, UserWarning)\n",
      "/usr/local/lib/python3.6/dist-packages/seaborn/distributions.py:305: UserWarning: Dataset has 0 variance; skipping density estimate.\n",
      "  warnings.warn(msg, UserWarning)\n",
      "/usr/local/lib/python3.6/dist-packages/seaborn/distributions.py:305: UserWarning: Dataset has 0 variance; skipping density estimate.\n",
      "  warnings.warn(msg, UserWarning)\n",
      "/usr/local/lib/python3.6/dist-packages/seaborn/distributions.py:305: UserWarning: Dataset has 0 variance; skipping density estimate.\n",
      "  warnings.warn(msg, UserWarning)\n",
      "/usr/local/lib/python3.6/dist-packages/seaborn/distributions.py:305: UserWarning: Dataset has 0 variance; skipping density estimate.\n",
      "  warnings.warn(msg, UserWarning)\n",
      "/usr/local/lib/python3.6/dist-packages/seaborn/distributions.py:305: UserWarning: Dataset has 0 variance; skipping density estimate.\n",
      "  warnings.warn(msg, UserWarning)\n",
      "/usr/local/lib/python3.6/dist-packages/seaborn/distributions.py:305: UserWarning: Dataset has 0 variance; skipping density estimate.\n",
      "  warnings.warn(msg, UserWarning)\n",
      "/usr/local/lib/python3.6/dist-packages/seaborn/distributions.py:305: UserWarning: Dataset has 0 variance; skipping density estimate.\n",
      "  warnings.warn(msg, UserWarning)\n",
      "/usr/local/lib/python3.6/dist-packages/seaborn/distributions.py:305: UserWarning: Dataset has 0 variance; skipping density estimate.\n",
      "  warnings.warn(msg, UserWarning)\n",
      "/usr/local/lib/python3.6/dist-packages/seaborn/distributions.py:305: UserWarning: Dataset has 0 variance; skipping density estimate.\n",
      "  warnings.warn(msg, UserWarning)\n",
      "/usr/local/lib/python3.6/dist-packages/seaborn/distributions.py:305: UserWarning: Dataset has 0 variance; skipping density estimate.\n",
      "  warnings.warn(msg, UserWarning)\n",
      "/usr/local/lib/python3.6/dist-packages/seaborn/distributions.py:305: UserWarning: Dataset has 0 variance; skipping density estimate.\n",
      "  warnings.warn(msg, UserWarning)\n",
      "/usr/local/lib/python3.6/dist-packages/seaborn/distributions.py:305: UserWarning: Dataset has 0 variance; skipping density estimate.\n",
      "  warnings.warn(msg, UserWarning)\n",
      "/usr/local/lib/python3.6/dist-packages/seaborn/distributions.py:305: UserWarning: Dataset has 0 variance; skipping density estimate.\n",
      "  warnings.warn(msg, UserWarning)\n",
      "/usr/local/lib/python3.6/dist-packages/seaborn/distributions.py:305: UserWarning: Dataset has 0 variance; skipping density estimate.\n",
      "  warnings.warn(msg, UserWarning)\n",
      "/usr/local/lib/python3.6/dist-packages/seaborn/distributions.py:305: UserWarning: Dataset has 0 variance; skipping density estimate.\n",
      "  warnings.warn(msg, UserWarning)\n",
      "/usr/local/lib/python3.6/dist-packages/seaborn/distributions.py:305: UserWarning: Dataset has 0 variance; skipping density estimate.\n",
      "  warnings.warn(msg, UserWarning)\n",
      "/usr/local/lib/python3.6/dist-packages/seaborn/distributions.py:305: UserWarning: Dataset has 0 variance; skipping density estimate.\n",
      "  warnings.warn(msg, UserWarning)\n",
      "/usr/local/lib/python3.6/dist-packages/seaborn/distributions.py:305: UserWarning: Dataset has 0 variance; skipping density estimate.\n",
      "  warnings.warn(msg, UserWarning)\n",
      "/usr/local/lib/python3.6/dist-packages/seaborn/distributions.py:305: UserWarning: Dataset has 0 variance; skipping density estimate.\n",
      "  warnings.warn(msg, UserWarning)\n",
      "/usr/local/lib/python3.6/dist-packages/seaborn/distributions.py:305: UserWarning: Dataset has 0 variance; skipping density estimate.\n",
      "  warnings.warn(msg, UserWarning)\n",
      "/usr/local/lib/python3.6/dist-packages/seaborn/distributions.py:305: UserWarning: Dataset has 0 variance; skipping density estimate.\n",
      "  warnings.warn(msg, UserWarning)\n",
      "/usr/local/lib/python3.6/dist-packages/seaborn/distributions.py:305: UserWarning: Dataset has 0 variance; skipping density estimate.\n",
      "  warnings.warn(msg, UserWarning)\n",
      "/usr/local/lib/python3.6/dist-packages/seaborn/distributions.py:305: UserWarning: Dataset has 0 variance; skipping density estimate.\n",
      "  warnings.warn(msg, UserWarning)\n",
      "/usr/local/lib/python3.6/dist-packages/seaborn/distributions.py:305: UserWarning: Dataset has 0 variance; skipping density estimate.\n",
      "  warnings.warn(msg, UserWarning)\n",
      "/usr/local/lib/python3.6/dist-packages/seaborn/distributions.py:305: UserWarning: Dataset has 0 variance; skipping density estimate.\n",
      "  warnings.warn(msg, UserWarning)\n",
      "/usr/local/lib/python3.6/dist-packages/seaborn/distributions.py:305: UserWarning: Dataset has 0 variance; skipping density estimate.\n",
      "  warnings.warn(msg, UserWarning)\n",
      "/usr/local/lib/python3.6/dist-packages/seaborn/distributions.py:305: UserWarning: Dataset has 0 variance; skipping density estimate.\n",
      "  warnings.warn(msg, UserWarning)\n",
      "/usr/local/lib/python3.6/dist-packages/seaborn/distributions.py:305: UserWarning: Dataset has 0 variance; skipping density estimate.\n",
      "  warnings.warn(msg, UserWarning)\n",
      "/usr/local/lib/python3.6/dist-packages/seaborn/distributions.py:305: UserWarning: Dataset has 0 variance; skipping density estimate.\n",
      "  warnings.warn(msg, UserWarning)\n",
      "/usr/local/lib/python3.6/dist-packages/seaborn/distributions.py:305: UserWarning: Dataset has 0 variance; skipping density estimate.\n",
      "  warnings.warn(msg, UserWarning)\n",
      "/usr/local/lib/python3.6/dist-packages/seaborn/distributions.py:305: UserWarning: Dataset has 0 variance; skipping density estimate.\n",
      "  warnings.warn(msg, UserWarning)\n",
      "/usr/local/lib/python3.6/dist-packages/seaborn/distributions.py:305: UserWarning: Dataset has 0 variance; skipping density estimate.\n",
      "  warnings.warn(msg, UserWarning)\n",
      "/usr/local/lib/python3.6/dist-packages/seaborn/distributions.py:305: UserWarning: Dataset has 0 variance; skipping density estimate.\n",
      "  warnings.warn(msg, UserWarning)\n",
      "/usr/local/lib/python3.6/dist-packages/seaborn/distributions.py:305: UserWarning: Dataset has 0 variance; skipping density estimate.\n",
      "  warnings.warn(msg, UserWarning)\n",
      "/usr/local/lib/python3.6/dist-packages/seaborn/distributions.py:305: UserWarning: Dataset has 0 variance; skipping density estimate.\n",
      "  warnings.warn(msg, UserWarning)\n",
      "/usr/local/lib/python3.6/dist-packages/seaborn/distributions.py:305: UserWarning: Dataset has 0 variance; skipping density estimate.\n",
      "  warnings.warn(msg, UserWarning)\n",
      "/usr/local/lib/python3.6/dist-packages/seaborn/distributions.py:305: UserWarning: Dataset has 0 variance; skipping density estimate.\n",
      "  warnings.warn(msg, UserWarning)\n",
      "/usr/local/lib/python3.6/dist-packages/seaborn/distributions.py:305: UserWarning: Dataset has 0 variance; skipping density estimate.\n",
      "  warnings.warn(msg, UserWarning)\n",
      "/usr/local/lib/python3.6/dist-packages/seaborn/distributions.py:305: UserWarning: Dataset has 0 variance; skipping density estimate.\n",
      "  warnings.warn(msg, UserWarning)\n",
      "/usr/local/lib/python3.6/dist-packages/seaborn/distributions.py:305: UserWarning: Dataset has 0 variance; skipping density estimate.\n",
      "  warnings.warn(msg, UserWarning)\n",
      "/usr/local/lib/python3.6/dist-packages/seaborn/distributions.py:305: UserWarning: Dataset has 0 variance; skipping density estimate.\n",
      "  warnings.warn(msg, UserWarning)\n",
      "/usr/local/lib/python3.6/dist-packages/seaborn/distributions.py:305: UserWarning: Dataset has 0 variance; skipping density estimate.\n",
      "  warnings.warn(msg, UserWarning)\n",
      "/usr/local/lib/python3.6/dist-packages/seaborn/distributions.py:305: UserWarning: Dataset has 0 variance; skipping density estimate.\n",
      "  warnings.warn(msg, UserWarning)\n",
      "/usr/local/lib/python3.6/dist-packages/seaborn/distributions.py:305: UserWarning: Dataset has 0 variance; skipping density estimate.\n",
      "  warnings.warn(msg, UserWarning)\n",
      "/usr/local/lib/python3.6/dist-packages/seaborn/distributions.py:305: UserWarning: Dataset has 0 variance; skipping density estimate.\n",
      "  warnings.warn(msg, UserWarning)\n",
      "/usr/local/lib/python3.6/dist-packages/seaborn/distributions.py:305: UserWarning: Dataset has 0 variance; skipping density estimate.\n",
      "  warnings.warn(msg, UserWarning)\n",
      "/usr/local/lib/python3.6/dist-packages/seaborn/distributions.py:305: UserWarning: Dataset has 0 variance; skipping density estimate.\n",
      "  warnings.warn(msg, UserWarning)\n",
      "/usr/local/lib/python3.6/dist-packages/seaborn/distributions.py:305: UserWarning: Dataset has 0 variance; skipping density estimate.\n",
      "  warnings.warn(msg, UserWarning)\n",
      "/usr/local/lib/python3.6/dist-packages/seaborn/distributions.py:305: UserWarning: Dataset has 0 variance; skipping density estimate.\n",
      "  warnings.warn(msg, UserWarning)\n",
      "/usr/local/lib/python3.6/dist-packages/seaborn/distributions.py:305: UserWarning: Dataset has 0 variance; skipping density estimate.\n",
      "  warnings.warn(msg, UserWarning)\n",
      "/usr/local/lib/python3.6/dist-packages/seaborn/distributions.py:305: UserWarning: Dataset has 0 variance; skipping density estimate.\n",
      "  warnings.warn(msg, UserWarning)\n",
      "/usr/local/lib/python3.6/dist-packages/seaborn/distributions.py:305: UserWarning: Dataset has 0 variance; skipping density estimate.\n",
      "  warnings.warn(msg, UserWarning)\n",
      "/usr/local/lib/python3.6/dist-packages/seaborn/distributions.py:305: UserWarning: Dataset has 0 variance; skipping density estimate.\n",
      "  warnings.warn(msg, UserWarning)\n",
      "/usr/local/lib/python3.6/dist-packages/seaborn/distributions.py:305: UserWarning: Dataset has 0 variance; skipping density estimate.\n",
      "  warnings.warn(msg, UserWarning)\n",
      "/usr/local/lib/python3.6/dist-packages/seaborn/distributions.py:305: UserWarning: Dataset has 0 variance; skipping density estimate.\n",
      "  warnings.warn(msg, UserWarning)\n",
      "/usr/local/lib/python3.6/dist-packages/seaborn/distributions.py:305: UserWarning: Dataset has 0 variance; skipping density estimate.\n",
      "  warnings.warn(msg, UserWarning)\n",
      "/usr/local/lib/python3.6/dist-packages/seaborn/distributions.py:305: UserWarning: Dataset has 0 variance; skipping density estimate.\n",
      "  warnings.warn(msg, UserWarning)\n",
      "/usr/local/lib/python3.6/dist-packages/seaborn/distributions.py:305: UserWarning: Dataset has 0 variance; skipping density estimate.\n",
      "  warnings.warn(msg, UserWarning)\n",
      "/usr/local/lib/python3.6/dist-packages/seaborn/distributions.py:305: UserWarning: Dataset has 0 variance; skipping density estimate.\n",
      "  warnings.warn(msg, UserWarning)\n",
      "/usr/local/lib/python3.6/dist-packages/seaborn/distributions.py:305: UserWarning: Dataset has 0 variance; skipping density estimate.\n",
      "  warnings.warn(msg, UserWarning)\n",
      "/usr/local/lib/python3.6/dist-packages/seaborn/distributions.py:305: UserWarning: Dataset has 0 variance; skipping density estimate.\n",
      "  warnings.warn(msg, UserWarning)\n",
      "/usr/local/lib/python3.6/dist-packages/seaborn/distributions.py:305: UserWarning: Dataset has 0 variance; skipping density estimate.\n",
      "  warnings.warn(msg, UserWarning)\n",
      "/usr/local/lib/python3.6/dist-packages/seaborn/distributions.py:305: UserWarning: Dataset has 0 variance; skipping density estimate.\n",
      "  warnings.warn(msg, UserWarning)\n",
      "/usr/local/lib/python3.6/dist-packages/seaborn/distributions.py:305: UserWarning: Dataset has 0 variance; skipping density estimate.\n",
      "  warnings.warn(msg, UserWarning)\n",
      "/usr/local/lib/python3.6/dist-packages/seaborn/distributions.py:305: UserWarning: Dataset has 0 variance; skipping density estimate.\n",
      "  warnings.warn(msg, UserWarning)\n",
      "/usr/local/lib/python3.6/dist-packages/seaborn/distributions.py:305: UserWarning: Dataset has 0 variance; skipping density estimate.\n",
      "  warnings.warn(msg, UserWarning)\n",
      "/usr/local/lib/python3.6/dist-packages/seaborn/distributions.py:305: UserWarning: Dataset has 0 variance; skipping density estimate.\n",
      "  warnings.warn(msg, UserWarning)\n",
      "/usr/local/lib/python3.6/dist-packages/seaborn/distributions.py:305: UserWarning: Dataset has 0 variance; skipping density estimate.\n",
      "  warnings.warn(msg, UserWarning)\n",
      "/usr/local/lib/python3.6/dist-packages/seaborn/distributions.py:305: UserWarning: Dataset has 0 variance; skipping density estimate.\n",
      "  warnings.warn(msg, UserWarning)\n",
      "/usr/local/lib/python3.6/dist-packages/seaborn/distributions.py:305: UserWarning: Dataset has 0 variance; skipping density estimate.\n",
      "  warnings.warn(msg, UserWarning)\n",
      "/usr/local/lib/python3.6/dist-packages/seaborn/distributions.py:305: UserWarning: Dataset has 0 variance; skipping density estimate.\n",
      "  warnings.warn(msg, UserWarning)\n",
      "/usr/local/lib/python3.6/dist-packages/seaborn/distributions.py:305: UserWarning: Dataset has 0 variance; skipping density estimate.\n",
      "  warnings.warn(msg, UserWarning)\n",
      "/usr/local/lib/python3.6/dist-packages/seaborn/distributions.py:305: UserWarning: Dataset has 0 variance; skipping density estimate.\n",
      "  warnings.warn(msg, UserWarning)\n",
      "/usr/local/lib/python3.6/dist-packages/seaborn/distributions.py:305: UserWarning: Dataset has 0 variance; skipping density estimate.\n",
      "  warnings.warn(msg, UserWarning)\n",
      "/usr/local/lib/python3.6/dist-packages/seaborn/distributions.py:305: UserWarning: Dataset has 0 variance; skipping density estimate.\n",
      "  warnings.warn(msg, UserWarning)\n",
      "/usr/local/lib/python3.6/dist-packages/seaborn/distributions.py:305: UserWarning: Dataset has 0 variance; skipping density estimate.\n",
      "  warnings.warn(msg, UserWarning)\n",
      "/usr/local/lib/python3.6/dist-packages/seaborn/distributions.py:305: UserWarning: Dataset has 0 variance; skipping density estimate.\n",
      "  warnings.warn(msg, UserWarning)\n",
      "/usr/local/lib/python3.6/dist-packages/seaborn/distributions.py:305: UserWarning: Dataset has 0 variance; skipping density estimate.\n",
      "  warnings.warn(msg, UserWarning)\n",
      "/usr/local/lib/python3.6/dist-packages/seaborn/distributions.py:305: UserWarning: Dataset has 0 variance; skipping density estimate.\n",
      "  warnings.warn(msg, UserWarning)\n",
      "/usr/local/lib/python3.6/dist-packages/seaborn/distributions.py:305: UserWarning: Dataset has 0 variance; skipping density estimate.\n",
      "  warnings.warn(msg, UserWarning)\n",
      "/usr/local/lib/python3.6/dist-packages/seaborn/distributions.py:305: UserWarning: Dataset has 0 variance; skipping density estimate.\n",
      "  warnings.warn(msg, UserWarning)\n"
     ],
     "name": "stderr"
    },
    {
     "output_type": "execute_result",
     "data": {
      "text/plain": [
       "<seaborn.axisgrid.PairGrid at 0x7f554614cb38>"
      ]
     },
     "metadata": {
      "tags": []
     },
     "execution_count": 38
    },
    {
     "output_type": "display_data",
     "data": {
      "image/png": "[encoded data removed]",
      "text/plain": [
       "<Figure size 412x360 with 6 Axes>"
      ]
     },
     "metadata": {
      "tags": [],
      "needs_background": "light"
     }
    }
   ]
  },
  {
   "cell_type": "code",
   "metadata": {
    "id": "V8wAg-00HLwx",
    "colab": {
     "base_uri": "https://localhost:8080/",
     "height": 350
    },
    "executionInfo": {
     "status": "ok",
     "timestamp": 1605543874941,
     "user_tz": -180,
     "elapsed": 760,
     "user": {
      "displayName": "Рустам Асадуллаев",
      "photoUrl": "",
      "userId": "00028302062075019920"
     }
    },
    "outputId": "3bf8b6e5-eae4-4497-cbfc-8bf05b89b60f"
   },
   "source": [
    "plt.figure()\n",
    "sns.distplot(tips['tip'], ax=plt.gca(), bins = 15)"
   ],
   "execution_count": null,
   "outputs": [
    {
     "output_type": "stream",
     "text": [
      "/usr/local/lib/python3.6/dist-packages/seaborn/distributions.py:2551: FutureWarning: `distplot` is a deprecated function and will be removed in a future version. Please adapt your code to use either `displot` (a figure-level function with similar flexibility) or `histplot` (an axes-level function for histograms).\n",
      "  warnings.warn(msg, FutureWarning)\n"
     ],
     "name": "stderr"
    },
    {
     "output_type": "execute_result",
     "data": {
      "text/plain": [
       "<matplotlib.axes._subplots.AxesSubplot at 0x7f5545c08f28>"
      ]
     },
     "metadata": {
      "tags": []
     },
     "execution_count": 41
    },
    {
     "output_type": "display_data",
     "data": {
      "image/png": "[encoded data removed]",
      "text/plain": [
       "<Figure size 432x288 with 1 Axes>"
      ]
     },
     "metadata": {
      "tags": [],
      "needs_background": "light"
     }
    }
   ]
  },
  {
   "cell_type": "code",
   "metadata": {
    "id": "bvvv1ULxF950",
    "colab": {
     "base_uri": "https://localhost:8080/",
     "height": 173
    },
    "executionInfo": {
     "status": "ok",
     "timestamp": 1605543896229,
     "user_tz": -180,
     "elapsed": 783,
     "user": {
      "displayName": "Рустам Асадуллаев",
      "photoUrl": "",
      "userId": "00028302062075019920"
     }
    },
    "outputId": "56f03495-2dca-4dde-88bf-a9ff46b31fe1"
   },
   "source": [
    "#Вычислим попарную корреляцию столбцов, исключая значения NA / null.\n",
    "corr_matrix = tips.corr()\n",
    "corr_matrix\n"
   ],
   "execution_count": null,
   "outputs": [
    {
     "output_type": "execute_result",
     "data": {
      "text/html": [
       "<div>\n",
       "<style scoped>\n",
       "    .dataframe tbody tr th:only-of-type {\n",
       "        vertical-align: middle;\n",
       "    }\n",
       "\n",
       "    .dataframe tbody tr th {\n",
       "        vertical-align: top;\n",
       "    }\n",
       "\n",
       "    .dataframe thead th {\n",
       "        text-align: right;\n",
       "    }\n",
       "</style>\n",
       "<table border=\"1\" class=\"dataframe\">\n",
       "  <thead>\n",
       "    <tr style=\"text-align: right;\">\n",
       "      <th></th>\n",
       "      <th>total_bill</th>\n",
       "      <th>tip</th>\n",
       "      <th>smoker</th>\n",
       "      <th>size</th>\n",
       "    </tr>\n",
       "  </thead>\n",
       "  <tbody>\n",
       "    <tr>\n",
       "      <th>total_bill</th>\n",
       "      <td>1.000000</td>\n",
       "      <td>0.675734</td>\n",
       "      <td>0.085721</td>\n",
       "      <td>0.598315</td>\n",
       "    </tr>\n",
       "    <tr>\n",
       "      <th>tip</th>\n",
       "      <td>0.675734</td>\n",
       "      <td>1.000000</td>\n",
       "      <td>0.005929</td>\n",
       "      <td>0.489299</td>\n",
       "    </tr>\n",
       "    <tr>\n",
       "      <th>smoker</th>\n",
       "      <td>0.085721</td>\n",
       "      <td>0.005929</td>\n",
       "      <td>1.000000</td>\n",
       "      <td>-0.133178</td>\n",
       "    </tr>\n",
       "    <tr>\n",
       "      <th>size</th>\n",
       "      <td>0.598315</td>\n",
       "      <td>0.489299</td>\n",
       "      <td>-0.133178</td>\n",
       "      <td>1.000000</td>\n",
       "    </tr>\n",
       "  </tbody>\n",
       "</table>\n",
       "</div>"
      ],
      "text/plain": [
       "            total_bill       tip    smoker      size\n",
       "total_bill    1.000000  0.675734  0.085721  0.598315\n",
       "tip           0.675734  1.000000  0.005929  0.489299\n",
       "smoker        0.085721  0.005929  1.000000 -0.133178\n",
       "size          0.598315  0.489299 -0.133178  1.000000"
      ]
     },
     "metadata": {
      "tags": []
     },
     "execution_count": 42
    }
   ]
  },
  {
   "cell_type": "code",
   "metadata": {
    "id": "A1L4n-sDG3dx",
    "colab": {
     "base_uri": "https://localhost:8080/",
     "height": 287
    },
    "executionInfo": {
     "status": "ok",
     "timestamp": 1605543900941,
     "user_tz": -180,
     "elapsed": 853,
     "user": {
      "displayName": "Рустам Асадуллаев",
      "photoUrl": "",
      "userId": "00028302062075019920"
     }
    },
    "outputId": "961657ce-bc84-4fa4-ea11-df6580565868"
   },
   "source": [
    "plt.figure()\n",
    "sns.heatmap(corr_matrix, ax=plt.gca())"
   ],
   "execution_count": null,
   "outputs": [
    {
     "output_type": "execute_result",
     "data": {
      "text/plain": [
       "<matplotlib.axes._subplots.AxesSubplot at 0x7f5545b870b8>"
      ]
     },
     "metadata": {
      "tags": []
     },
     "execution_count": 43
    },
    {
     "output_type": "display_data",
     "data": {
      "image/png": "[encoded data removed]",
      "text/plain": [
       "<Figure size 432x288 with 2 Axes>"
      ]
     },
     "metadata": {
      "tags": [],
      "needs_background": "light"
     }
    }
   ]
  },
  {
   "cell_type": "code",
   "metadata": {
    "id": "CbBUAlONG_nU"
   },
   "source": [
    ""
   ],
   "execution_count": null,
   "outputs": []
  },
  {
   "cell_type": "markdown",
   "metadata": {
    "id": "Hpycu04J_7Ch"
   },
   "source": [
    "# ДЗ\n",
    "\n",
    "Для датасета `tips` необходимо ответить на следующие вопросы:\n",
    "* Сколько мужчин и сколько женщин заплатили чаевые?\n",
    "* Определите долю курящих среди мужчин и женщин.\n",
    "* На какой день в среднем приходилось наибольшее количество посетителей? (учитывайте размер столика)\n",
    "* На какое время суток приходится наибольшее количество чаевых?\n",
    "* В какой день недели был заказ с максимальным счетом?\n",
    "* Постройте столбчатую гистограмму, где данные сгруппированы по дню недели (X) и медианное значение общего счета (Y). Столбцы для каждого дня должны учитывать, курит посетитель или нет.\n",
    "* Построить гистограмму распределения целевого признака - чаевых (tips)\n",
    "* Преобразовать категориальные признаки (время суток, день) sklearn.preprocessing.OneHotEncoder и бинарные (пол, курение) в числовой вид\n",
    "* Построить seaborn.pairplot для признаков\n",
    "* Построить диаграмму рассеяния в координатах чаевые/общий счет с hue='smoke'"
   ]
  }
 ]
}